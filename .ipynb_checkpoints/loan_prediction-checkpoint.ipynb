{
 "cells": [
  {
   "cell_type": "markdown",
   "id": "f1d05703-f540-4bb8-9e7d-9ded6eabb2b9",
   "metadata": {},
   "source": [
    "<h2 style=\"text-align: center;\">Predicting Personal Loan Purchases Using Classification Models</h2>"
   ]
  },
  {
   "cell_type": "markdown",
   "id": "7747747a-0a55-49c1-93d0-a1671df2a01a",
   "metadata": {},
   "source": [
    "<div style=\"text-align: center;\">\n",
    "  <img src=\"https://images.unsplash.com/photo-1607863680198-23d4b2565df0?q=80&w=2070&auto=format&fit=crop&ixlib=rb-4.0.3&ixid=M3wxMjA3fDB8MHxwaG90by1wYWdlfHx8fGVufDB8fHx8fA%3D%3D\" alt=\"A beautiful landscape\" style=\"width: 300px;\">\n",
    "</div>"
   ]
  },
  {
   "cell_type": "markdown",
   "id": "c0bf2163-4883-4df4-8de7-d93481a14b23",
   "metadata": {},
   "source": [
    "# Context\n",
    "This case is about a bank (Thera Bank) which has a growing customer base. Majority of these customers are liability customers (depositors) with varying size of deposits. The number of customers who are also borrowers (asset customers) is quite small, and the bank is interested in expanding this base rapidly to bring in more loan business and in the process, earn more through the interest on loans. In particular, the management wants to explore ways of converting its liability customers to personal loan customers (while retaining them as depositors). A campaign that the bank ran last year for liability customers showed a healthy conversion rate of over 9% success. This has encouraged the retail marketing department to devise campaigns to better target marketing to increase the success ratio with a minimal budget.\n",
    "\n",
    "The department wants to build a model that will help them identify the potential customers who have a higher probability of purchasing the loan. This will increase the success ratio while at the same time reduce the cost of the campaign."
   ]
  },
  {
   "cell_type": "markdown",
   "id": "c526f803-56b2-4c45-8c1a-0be43cbb830f",
   "metadata": {},
   "source": [
    "# Objective:\n",
    "Study the data distribution in each attribute, share your findings.\n",
    "Use a classification model to predict the likelihood of a liability\n",
    "customer buying personal loans.\n"
   ]
  },
  {
   "cell_type": "markdown",
   "id": "95504a53-a186-400c-a0af-69ce266e496e",
   "metadata": {
    "tags": []
   },
   "source": [
    "# Contents\n",
    "- 1. Data importing and dictionary\n",
    "- 2. EDA\n",
    "- 3. Train / Test Splitting the data\n",
    "- 4. Feature Engineering\n",
    "- 5. Logistic Regression\n",
    "- 6. Performance Evaluation\n",
    "- 7. Finding top 500 most likely to accept a personal loan\n",
    "- 8. Calculating the odds of a new customer accepting a personal loan"
   ]
  },
  {
   "cell_type": "markdown",
   "id": "672ceba2-6d71-41e9-b504-39e09a0c3faf",
   "metadata": {},
   "source": [
    "# 1. Data importing and dictionary"
   ]
  },
  {
   "cell_type": "code",
   "execution_count": 7,
   "id": "2adf2574-9e41-4a64-ae34-96c2b95d4d87",
   "metadata": {
    "tags": []
   },
   "outputs": [],
   "source": [
    "# Importing the big 4 - Pandas, Numpy, Seaborn & matplotlib\n",
    "import pandas as pd, numpy as np, seaborn as sns, matplotlib.pyplot as plt\n",
    "\n",
    "from sklearn.model_selection import train_test_split\n",
    "from sklearn import metrics # Import the metrics we'll be using\n",
    "from sklearn.model_selection import GridSearchCV\n",
    "\n",
    "# Import Logistic Regression from sklearn\n",
    "from sklearn.linear_model import LogisticRegression\n",
    "from sklearn.preprocessing import StandardScaler, RobustScaler, MinMaxScaler\n",
    "\n",
    "from statsmodels.stats.outliers_influence import variance_inflation_factor # a module to evaluate the (VIF)\n",
    "import statsmodels.api as sm\n",
    "\n",
    "from IPython.display import clear_output\n",
    "import time"
   ]
  },
  {
   "cell_type": "code",
   "execution_count": 8,
   "id": "e2c942e8-d8c0-400c-8c6a-9bd618af62c1",
   "metadata": {
    "tags": []
   },
   "outputs": [],
   "source": [
    "dataset = \"Bank_Personal_Loan_Modelling - Data.csv\"\n",
    "bank_df = pd.read_csv(dataset)"
   ]
  },
  {
   "cell_type": "code",
   "execution_count": 9,
   "id": "e5f2c94c-2d47-4c41-861c-2f07f7726ebb",
   "metadata": {
    "tags": []
   },
   "outputs": [
    {
     "data": {
      "text/html": [
       "<div>\n",
       "<style scoped>\n",
       "    .dataframe tbody tr th:only-of-type {\n",
       "        vertical-align: middle;\n",
       "    }\n",
       "\n",
       "    .dataframe tbody tr th {\n",
       "        vertical-align: top;\n",
       "    }\n",
       "\n",
       "    .dataframe thead th {\n",
       "        text-align: right;\n",
       "    }\n",
       "</style>\n",
       "<table border=\"1\" class=\"dataframe\">\n",
       "  <thead>\n",
       "    <tr style=\"text-align: right;\">\n",
       "      <th></th>\n",
       "      <th>ID</th>\n",
       "      <th>Age</th>\n",
       "      <th>Experience</th>\n",
       "      <th>Income</th>\n",
       "      <th>ZIP Code</th>\n",
       "      <th>Family</th>\n",
       "      <th>CCAvg</th>\n",
       "      <th>Education</th>\n",
       "      <th>Mortgage</th>\n",
       "      <th>Personal Loan</th>\n",
       "      <th>Securities Account</th>\n",
       "      <th>CD Account</th>\n",
       "      <th>Online</th>\n",
       "      <th>CreditCard</th>\n",
       "    </tr>\n",
       "  </thead>\n",
       "  <tbody>\n",
       "    <tr>\n",
       "      <th>0</th>\n",
       "      <td>1</td>\n",
       "      <td>25</td>\n",
       "      <td>1</td>\n",
       "      <td>49</td>\n",
       "      <td>91107</td>\n",
       "      <td>4</td>\n",
       "      <td>1.6</td>\n",
       "      <td>1</td>\n",
       "      <td>0</td>\n",
       "      <td>0</td>\n",
       "      <td>1</td>\n",
       "      <td>0</td>\n",
       "      <td>0</td>\n",
       "      <td>0</td>\n",
       "    </tr>\n",
       "    <tr>\n",
       "      <th>1</th>\n",
       "      <td>2</td>\n",
       "      <td>45</td>\n",
       "      <td>19</td>\n",
       "      <td>34</td>\n",
       "      <td>90089</td>\n",
       "      <td>3</td>\n",
       "      <td>1.5</td>\n",
       "      <td>1</td>\n",
       "      <td>0</td>\n",
       "      <td>0</td>\n",
       "      <td>1</td>\n",
       "      <td>0</td>\n",
       "      <td>0</td>\n",
       "      <td>0</td>\n",
       "    </tr>\n",
       "    <tr>\n",
       "      <th>2</th>\n",
       "      <td>3</td>\n",
       "      <td>39</td>\n",
       "      <td>15</td>\n",
       "      <td>11</td>\n",
       "      <td>94720</td>\n",
       "      <td>1</td>\n",
       "      <td>1.0</td>\n",
       "      <td>1</td>\n",
       "      <td>0</td>\n",
       "      <td>0</td>\n",
       "      <td>0</td>\n",
       "      <td>0</td>\n",
       "      <td>0</td>\n",
       "      <td>0</td>\n",
       "    </tr>\n",
       "    <tr>\n",
       "      <th>3</th>\n",
       "      <td>4</td>\n",
       "      <td>35</td>\n",
       "      <td>9</td>\n",
       "      <td>100</td>\n",
       "      <td>94112</td>\n",
       "      <td>1</td>\n",
       "      <td>2.7</td>\n",
       "      <td>2</td>\n",
       "      <td>0</td>\n",
       "      <td>0</td>\n",
       "      <td>0</td>\n",
       "      <td>0</td>\n",
       "      <td>0</td>\n",
       "      <td>0</td>\n",
       "    </tr>\n",
       "    <tr>\n",
       "      <th>4</th>\n",
       "      <td>5</td>\n",
       "      <td>35</td>\n",
       "      <td>8</td>\n",
       "      <td>45</td>\n",
       "      <td>91330</td>\n",
       "      <td>4</td>\n",
       "      <td>1.0</td>\n",
       "      <td>2</td>\n",
       "      <td>0</td>\n",
       "      <td>0</td>\n",
       "      <td>0</td>\n",
       "      <td>0</td>\n",
       "      <td>0</td>\n",
       "      <td>1</td>\n",
       "    </tr>\n",
       "    <tr>\n",
       "      <th>5</th>\n",
       "      <td>6</td>\n",
       "      <td>37</td>\n",
       "      <td>13</td>\n",
       "      <td>29</td>\n",
       "      <td>92121</td>\n",
       "      <td>4</td>\n",
       "      <td>0.4</td>\n",
       "      <td>2</td>\n",
       "      <td>155</td>\n",
       "      <td>0</td>\n",
       "      <td>0</td>\n",
       "      <td>0</td>\n",
       "      <td>1</td>\n",
       "      <td>0</td>\n",
       "    </tr>\n",
       "    <tr>\n",
       "      <th>6</th>\n",
       "      <td>7</td>\n",
       "      <td>53</td>\n",
       "      <td>27</td>\n",
       "      <td>72</td>\n",
       "      <td>91711</td>\n",
       "      <td>2</td>\n",
       "      <td>1.5</td>\n",
       "      <td>2</td>\n",
       "      <td>0</td>\n",
       "      <td>0</td>\n",
       "      <td>0</td>\n",
       "      <td>0</td>\n",
       "      <td>1</td>\n",
       "      <td>0</td>\n",
       "    </tr>\n",
       "    <tr>\n",
       "      <th>7</th>\n",
       "      <td>8</td>\n",
       "      <td>50</td>\n",
       "      <td>24</td>\n",
       "      <td>22</td>\n",
       "      <td>93943</td>\n",
       "      <td>1</td>\n",
       "      <td>0.3</td>\n",
       "      <td>3</td>\n",
       "      <td>0</td>\n",
       "      <td>0</td>\n",
       "      <td>0</td>\n",
       "      <td>0</td>\n",
       "      <td>0</td>\n",
       "      <td>1</td>\n",
       "    </tr>\n",
       "    <tr>\n",
       "      <th>8</th>\n",
       "      <td>9</td>\n",
       "      <td>35</td>\n",
       "      <td>10</td>\n",
       "      <td>81</td>\n",
       "      <td>90089</td>\n",
       "      <td>3</td>\n",
       "      <td>0.6</td>\n",
       "      <td>2</td>\n",
       "      <td>104</td>\n",
       "      <td>0</td>\n",
       "      <td>0</td>\n",
       "      <td>0</td>\n",
       "      <td>1</td>\n",
       "      <td>0</td>\n",
       "    </tr>\n",
       "    <tr>\n",
       "      <th>9</th>\n",
       "      <td>10</td>\n",
       "      <td>34</td>\n",
       "      <td>9</td>\n",
       "      <td>180</td>\n",
       "      <td>93023</td>\n",
       "      <td>1</td>\n",
       "      <td>8.9</td>\n",
       "      <td>3</td>\n",
       "      <td>0</td>\n",
       "      <td>1</td>\n",
       "      <td>0</td>\n",
       "      <td>0</td>\n",
       "      <td>0</td>\n",
       "      <td>0</td>\n",
       "    </tr>\n",
       "    <tr>\n",
       "      <th>10</th>\n",
       "      <td>11</td>\n",
       "      <td>65</td>\n",
       "      <td>39</td>\n",
       "      <td>105</td>\n",
       "      <td>94710</td>\n",
       "      <td>4</td>\n",
       "      <td>2.4</td>\n",
       "      <td>3</td>\n",
       "      <td>0</td>\n",
       "      <td>0</td>\n",
       "      <td>0</td>\n",
       "      <td>0</td>\n",
       "      <td>0</td>\n",
       "      <td>0</td>\n",
       "    </tr>\n",
       "    <tr>\n",
       "      <th>11</th>\n",
       "      <td>12</td>\n",
       "      <td>29</td>\n",
       "      <td>5</td>\n",
       "      <td>45</td>\n",
       "      <td>90277</td>\n",
       "      <td>3</td>\n",
       "      <td>0.1</td>\n",
       "      <td>2</td>\n",
       "      <td>0</td>\n",
       "      <td>0</td>\n",
       "      <td>0</td>\n",
       "      <td>0</td>\n",
       "      <td>1</td>\n",
       "      <td>0</td>\n",
       "    </tr>\n",
       "    <tr>\n",
       "      <th>12</th>\n",
       "      <td>13</td>\n",
       "      <td>48</td>\n",
       "      <td>23</td>\n",
       "      <td>114</td>\n",
       "      <td>93106</td>\n",
       "      <td>2</td>\n",
       "      <td>3.8</td>\n",
       "      <td>3</td>\n",
       "      <td>0</td>\n",
       "      <td>0</td>\n",
       "      <td>1</td>\n",
       "      <td>0</td>\n",
       "      <td>0</td>\n",
       "      <td>0</td>\n",
       "    </tr>\n",
       "    <tr>\n",
       "      <th>13</th>\n",
       "      <td>14</td>\n",
       "      <td>59</td>\n",
       "      <td>32</td>\n",
       "      <td>40</td>\n",
       "      <td>94920</td>\n",
       "      <td>4</td>\n",
       "      <td>2.5</td>\n",
       "      <td>2</td>\n",
       "      <td>0</td>\n",
       "      <td>0</td>\n",
       "      <td>0</td>\n",
       "      <td>0</td>\n",
       "      <td>1</td>\n",
       "      <td>0</td>\n",
       "    </tr>\n",
       "    <tr>\n",
       "      <th>14</th>\n",
       "      <td>15</td>\n",
       "      <td>67</td>\n",
       "      <td>41</td>\n",
       "      <td>112</td>\n",
       "      <td>91741</td>\n",
       "      <td>1</td>\n",
       "      <td>2.0</td>\n",
       "      <td>1</td>\n",
       "      <td>0</td>\n",
       "      <td>0</td>\n",
       "      <td>1</td>\n",
       "      <td>0</td>\n",
       "      <td>0</td>\n",
       "      <td>0</td>\n",
       "    </tr>\n",
       "    <tr>\n",
       "      <th>15</th>\n",
       "      <td>16</td>\n",
       "      <td>60</td>\n",
       "      <td>30</td>\n",
       "      <td>22</td>\n",
       "      <td>95054</td>\n",
       "      <td>1</td>\n",
       "      <td>1.5</td>\n",
       "      <td>3</td>\n",
       "      <td>0</td>\n",
       "      <td>0</td>\n",
       "      <td>0</td>\n",
       "      <td>0</td>\n",
       "      <td>1</td>\n",
       "      <td>1</td>\n",
       "    </tr>\n",
       "    <tr>\n",
       "      <th>16</th>\n",
       "      <td>17</td>\n",
       "      <td>38</td>\n",
       "      <td>14</td>\n",
       "      <td>130</td>\n",
       "      <td>95010</td>\n",
       "      <td>4</td>\n",
       "      <td>4.7</td>\n",
       "      <td>3</td>\n",
       "      <td>134</td>\n",
       "      <td>1</td>\n",
       "      <td>0</td>\n",
       "      <td>0</td>\n",
       "      <td>0</td>\n",
       "      <td>0</td>\n",
       "    </tr>\n",
       "    <tr>\n",
       "      <th>17</th>\n",
       "      <td>18</td>\n",
       "      <td>42</td>\n",
       "      <td>18</td>\n",
       "      <td>81</td>\n",
       "      <td>94305</td>\n",
       "      <td>4</td>\n",
       "      <td>2.4</td>\n",
       "      <td>1</td>\n",
       "      <td>0</td>\n",
       "      <td>0</td>\n",
       "      <td>0</td>\n",
       "      <td>0</td>\n",
       "      <td>0</td>\n",
       "      <td>0</td>\n",
       "    </tr>\n",
       "    <tr>\n",
       "      <th>18</th>\n",
       "      <td>19</td>\n",
       "      <td>46</td>\n",
       "      <td>21</td>\n",
       "      <td>193</td>\n",
       "      <td>91604</td>\n",
       "      <td>2</td>\n",
       "      <td>8.1</td>\n",
       "      <td>3</td>\n",
       "      <td>0</td>\n",
       "      <td>1</td>\n",
       "      <td>0</td>\n",
       "      <td>0</td>\n",
       "      <td>0</td>\n",
       "      <td>0</td>\n",
       "    </tr>\n",
       "    <tr>\n",
       "      <th>19</th>\n",
       "      <td>20</td>\n",
       "      <td>55</td>\n",
       "      <td>28</td>\n",
       "      <td>21</td>\n",
       "      <td>94720</td>\n",
       "      <td>1</td>\n",
       "      <td>0.5</td>\n",
       "      <td>2</td>\n",
       "      <td>0</td>\n",
       "      <td>0</td>\n",
       "      <td>1</td>\n",
       "      <td>0</td>\n",
       "      <td>0</td>\n",
       "      <td>1</td>\n",
       "    </tr>\n",
       "  </tbody>\n",
       "</table>\n",
       "</div>"
      ],
      "text/plain": [
       "    ID  Age  Experience  Income  ZIP Code  Family  CCAvg  Education  Mortgage  \\\n",
       "0    1   25           1      49     91107       4    1.6          1         0   \n",
       "1    2   45          19      34     90089       3    1.5          1         0   \n",
       "2    3   39          15      11     94720       1    1.0          1         0   \n",
       "3    4   35           9     100     94112       1    2.7          2         0   \n",
       "4    5   35           8      45     91330       4    1.0          2         0   \n",
       "5    6   37          13      29     92121       4    0.4          2       155   \n",
       "6    7   53          27      72     91711       2    1.5          2         0   \n",
       "7    8   50          24      22     93943       1    0.3          3         0   \n",
       "8    9   35          10      81     90089       3    0.6          2       104   \n",
       "9   10   34           9     180     93023       1    8.9          3         0   \n",
       "10  11   65          39     105     94710       4    2.4          3         0   \n",
       "11  12   29           5      45     90277       3    0.1          2         0   \n",
       "12  13   48          23     114     93106       2    3.8          3         0   \n",
       "13  14   59          32      40     94920       4    2.5          2         0   \n",
       "14  15   67          41     112     91741       1    2.0          1         0   \n",
       "15  16   60          30      22     95054       1    1.5          3         0   \n",
       "16  17   38          14     130     95010       4    4.7          3       134   \n",
       "17  18   42          18      81     94305       4    2.4          1         0   \n",
       "18  19   46          21     193     91604       2    8.1          3         0   \n",
       "19  20   55          28      21     94720       1    0.5          2         0   \n",
       "\n",
       "    Personal Loan  Securities Account  CD Account  Online  CreditCard  \n",
       "0               0                   1           0       0           0  \n",
       "1               0                   1           0       0           0  \n",
       "2               0                   0           0       0           0  \n",
       "3               0                   0           0       0           0  \n",
       "4               0                   0           0       0           1  \n",
       "5               0                   0           0       1           0  \n",
       "6               0                   0           0       1           0  \n",
       "7               0                   0           0       0           1  \n",
       "8               0                   0           0       1           0  \n",
       "9               1                   0           0       0           0  \n",
       "10              0                   0           0       0           0  \n",
       "11              0                   0           0       1           0  \n",
       "12              0                   1           0       0           0  \n",
       "13              0                   0           0       1           0  \n",
       "14              0                   1           0       0           0  \n",
       "15              0                   0           0       1           1  \n",
       "16              1                   0           0       0           0  \n",
       "17              0                   0           0       0           0  \n",
       "18              1                   0           0       0           0  \n",
       "19              0                   1           0       0           1  "
      ]
     },
     "execution_count": 9,
     "metadata": {},
     "output_type": "execute_result"
    }
   ],
   "source": [
    "bank_df.head(20)"
   ]
  },
  {
   "cell_type": "markdown",
   "id": "92a10c4d-5acd-4708-aa99-c3d364c0e48b",
   "metadata": {
    "tags": []
   },
   "source": [
    "## 1.1 Data Description\n",
    "\n",
    "- **ID**: Customer ID\n",
    "- **Age**: Customer's age in completed years\n",
    "- **Experience**: Number of years of professional experience\n",
    "- **Income**: Annual income of the customer ($000)\n",
    "\n",
    "- **ZIP Code**: Home address ZIP code\n",
    "- **Family**: Family size of the customer\n",
    "- **CCAvg**: Average spending on credit cards per month ($000)\n",
    "\n",
    "- **Education**: Education Level\n",
    "  - 1: Undergrad\n",
    "  - 2: Graduate\n",
    "  - 3: Advanced/Professional\n",
    "- **Mortgage**: Value of house mortgage if any ($000)\n",
    "- **Personal Loan**: Did this customer accept the personal loan offered in the last campaign?\n",
    "- **Securities Account**: Does the customer have a securities account with the bank?\n",
    "- **CD Account**: Does the customer have a certificate of deposit (CD) account with the bank?\n",
    "- **Online**: Does the customer use internet banking facilities?\n",
    "- **CreditCard**: Does the customer use a credit card issued by UniversalBank?\n"
   ]
  },
  {
   "cell_type": "markdown",
   "id": "ed86c3d0-61b6-4d4e-b1fe-4affe4568b28",
   "metadata": {},
   "source": [
    "# 2. EDA"
   ]
  },
  {
   "cell_type": "code",
   "execution_count": 12,
   "id": "557ad6cd-154f-4d57-8506-91d05827e751",
   "metadata": {
    "tags": []
   },
   "outputs": [
    {
     "data": {
      "text/plain": [
       "(5000, 14)"
      ]
     },
     "execution_count": 12,
     "metadata": {},
     "output_type": "execute_result"
    }
   ],
   "source": [
    "bank_df.shape"
   ]
  },
  {
   "cell_type": "code",
   "execution_count": 13,
   "id": "27d0d70c-2437-4825-b557-51543138b307",
   "metadata": {
    "tags": []
   },
   "outputs": [
    {
     "name": "stdout",
     "output_type": "stream",
     "text": [
      "<class 'pandas.core.frame.DataFrame'>\n",
      "RangeIndex: 5000 entries, 0 to 4999\n",
      "Data columns (total 14 columns):\n",
      " #   Column              Non-Null Count  Dtype  \n",
      "---  ------              --------------  -----  \n",
      " 0   ID                  5000 non-null   int64  \n",
      " 1   Age                 5000 non-null   int64  \n",
      " 2   Experience          5000 non-null   int64  \n",
      " 3   Income              5000 non-null   int64  \n",
      " 4   ZIP Code            5000 non-null   int64  \n",
      " 5   Family              5000 non-null   int64  \n",
      " 6   CCAvg               5000 non-null   float64\n",
      " 7   Education           5000 non-null   int64  \n",
      " 8   Mortgage            5000 non-null   int64  \n",
      " 9   Personal Loan       5000 non-null   int64  \n",
      " 10  Securities Account  5000 non-null   int64  \n",
      " 11  CD Account          5000 non-null   int64  \n",
      " 12  Online              5000 non-null   int64  \n",
      " 13  CreditCard          5000 non-null   int64  \n",
      "dtypes: float64(1), int64(13)\n",
      "memory usage: 547.0 KB\n"
     ]
    }
   ],
   "source": [
    "bank_df.info()"
   ]
  },
  {
   "cell_type": "markdown",
   "id": "736bbe29-8c0b-4209-b55b-f2fea35ff274",
   "metadata": {},
   "source": [
    "Note: Simple dataset with all numerical values and no nulls"
   ]
  },
  {
   "cell_type": "code",
   "execution_count": 15,
   "id": "6c652d26-469a-48ae-83ef-928206ba961c",
   "metadata": {
    "tags": []
   },
   "outputs": [
    {
     "data": {
      "text/plain": [
       "Index(['ID', 'Age', 'Experience', 'Income', 'ZIP Code', 'Family', 'CCAvg',\n",
       "       'Education', 'Mortgage', 'Personal Loan', 'Securities Account',\n",
       "       'CD Account', 'Online', 'CreditCard'],\n",
       "      dtype='object')"
      ]
     },
     "execution_count": 15,
     "metadata": {},
     "output_type": "execute_result"
    }
   ],
   "source": [
    "bank_df.columns"
   ]
  },
  {
   "cell_type": "code",
   "execution_count": 16,
   "id": "adcdfbc1-a313-4310-b15d-385d08cd2c06",
   "metadata": {
    "tags": []
   },
   "outputs": [
    {
     "data": {
      "text/plain": [
       "Personal Loan\n",
       "0    4520\n",
       "1     480\n",
       "Name: count, dtype: int64"
      ]
     },
     "execution_count": 16,
     "metadata": {},
     "output_type": "execute_result"
    }
   ],
   "source": [
    "bank_df['Personal Loan'].value_counts()"
   ]
  },
  {
   "cell_type": "code",
   "execution_count": 17,
   "id": "c115f37e-6d22-4e5b-80c5-bc160b613f68",
   "metadata": {
    "tags": []
   },
   "outputs": [
    {
     "data": {
      "text/plain": [
       "Personal Loan\n",
       "0    0.904\n",
       "1    0.096\n",
       "Name: proportion, dtype: float64"
      ]
     },
     "execution_count": 17,
     "metadata": {},
     "output_type": "execute_result"
    }
   ],
   "source": [
    "bank_df['Personal Loan'].value_counts(normalize = True)"
   ]
  },
  {
   "cell_type": "markdown",
   "id": "48499175-b912-40ed-909d-be6b4afdd00b",
   "metadata": {},
   "source": [
    "Note: Target column quite unbalanced (significantly more 0 then 1). DT may not be too good unless we artifcially add more data (Increase df[Pesonal Loan] :1)"
   ]
  },
  {
   "cell_type": "code",
   "execution_count": 19,
   "id": "81f15cd5-6862-4a02-8a51-759121ac321d",
   "metadata": {
    "tags": []
   },
   "outputs": [],
   "source": [
    "# Data exploration\n",
    "# for my_column in bank_df.columns:\n",
    "#     plt.figure(figsize=(10, 6))\n",
    "#     custom_palette = [\"#9b59b6\", \"#3498db\", \"#95a5a6\", \"#e74c3c\", \"#34495e\", \"#2ecc71\"]\n",
    "#     sns.countplot(x=my_column, hue=\"Personal Loan\", data=bank_df, palette=custom_palette)\n",
    "#     plt.title(f'Count of {my_column}')\n",
    "#     plt.xlabel(my_column)\n",
    "#     plt.ylabel('Count')\n",
    "#     plt.show()"
   ]
  },
  {
   "cell_type": "code",
   "execution_count": 20,
   "id": "9994404e-8f7e-42ad-8157-48dabd6affb6",
   "metadata": {
    "tags": []
   },
   "outputs": [],
   "source": [
    "# Checking Pearson Correlations\n",
    "df_corr = bank_df.corr(numeric_only = True)\n",
    "# df_corr"
   ]
  },
  {
   "cell_type": "code",
   "execution_count": 21,
   "id": "a7266f09-cdf8-4569-96ef-820122196900",
   "metadata": {
    "tags": []
   },
   "outputs": [
    {
     "data": {
      "image/png": "[encoded data removed]",
      "text/plain": [
       "<Figure size 1500x900 with 2 Axes>"
      ]
     },
     "metadata": {},
     "output_type": "display_data"
    }
   ],
   "source": [
    "plt.figure(figsize=(15,9))\n",
    "# sns.heatmap(df_corr, annot=True, cmap='coolwarm', linewidths=0.5)\n",
    "sns.heatmap(df_corr, annot=True, cmap='rocket_r', mask = np.triu(df_corr))\n",
    "\n",
    "# Add title and labels\n",
    "plt.title('Correlation Heatmap')\n",
    "plt.show()\n"
   ]
  },
  {
   "cell_type": "markdown",
   "id": "3776df7d-963e-4a31-8f99-ce3c77a1961d",
   "metadata": {
    "tags": []
   },
   "source": [
    "<h2> 2.2 Observations</h2>\n",
    "\n",
    "Data is clean overral, there are no null values and all the data is numerical.\n",
    "\n",
    "Could consider for feature engineering:\n",
    "- Scaling columns ['Age', 'Experience', 'Income', 'Family', 'CCAvg']\n",
    "- Removing 'Zip Code' column\n",
    "- Expirience and age columns have a 0.99 correlation (suggests collinearity) do we need both? -- Will look into this in the next section."
   ]
  },
  {
   "cell_type": "markdown",
   "id": "76dc4d21-5ce7-47e2-893c-af1428d4724e",
   "metadata": {},
   "source": [
    "# Check for multicollinearity"
   ]
  },
  {
   "cell_type": "markdown",
   "id": "dad073ad-42fb-4eb2-a27c-bf674d9aaed4",
   "metadata": {
    "tags": []
   },
   "source": [
    "Check if we should drop age colunm using a variation inflation factor (saw a large correlation in Pearrson corr betwwen age and expirience)."
   ]
  },
  {
   "cell_type": "code",
   "execution_count": 25,
   "id": "f340df87-50da-486e-b9c1-d64a5e391126",
   "metadata": {
    "tags": []
   },
   "outputs": [],
   "source": [
    "feature_cols = list(bank_df.columns)\n",
    "feature_cols.remove('Personal Loan')"
   ]
  },
  {
   "cell_type": "code",
   "execution_count": 26,
   "id": "2763a1ed-6c20-4a07-9564-2c13cc556fb2",
   "metadata": {
    "tags": []
   },
   "outputs": [
    {
     "data": {
      "text/plain": [
       "['ID',\n",
       " 'Age',\n",
       " 'Experience',\n",
       " 'Income',\n",
       " 'ZIP Code',\n",
       " 'Family',\n",
       " 'CCAvg',\n",
       " 'Education',\n",
       " 'Mortgage',\n",
       " 'Securities Account',\n",
       " 'CD Account',\n",
       " 'Online',\n",
       " 'CreditCard']"
      ]
     },
     "execution_count": 26,
     "metadata": {},
     "output_type": "execute_result"
    }
   ],
   "source": [
    "feature_cols"
   ]
  },
  {
   "cell_type": "code",
   "execution_count": 27,
   "id": "60496660-a9bf-4e13-978d-271c880aa178",
   "metadata": {
    "tags": []
   },
   "outputs": [
    {
     "data": {
      "text/plain": [
       "ID                       4.007942\n",
       "Age                   1275.042750\n",
       "Experience             314.685071\n",
       "Income                   6.596040\n",
       "ZIP Code               367.803830\n",
       "Family                   5.541795\n",
       "CCAvg                    3.854692\n",
       "Education                6.703085\n",
       "Mortgage                 1.375965\n",
       "Securities Account       1.269910\n",
       "CD Account               1.415041\n",
       "Online                   2.578500\n",
       "CreditCard               1.569272\n",
       "dtype: float64"
      ]
     },
     "execution_count": 27,
     "metadata": {},
     "output_type": "execute_result"
    }
   ],
   "source": [
    "## We can create an indexed list (a series) where we list the VIF of each of the columns. Note the use of '.shape' in the second part of the loop\n",
    "pd.Series([variance_inflation_factor(bank_df[feature_cols].values, i) for i in range(bank_df[feature_cols].shape[1])], index = bank_df[feature_cols].columns)"
   ]
  },
  {
   "cell_type": "code",
   "execution_count": 28,
   "id": "96520402-716f-44c3-915c-11bad1c0da67",
   "metadata": {
    "tags": []
   },
   "outputs": [],
   "source": [
    "## This a piece of code from stats.stackexchange.com\n",
    "\n",
    "## It runs the model with all the variables.\n",
    "## If any of them have a higher VIF than 5, it drops the max. \n",
    "## Then it keeps going until none of them have a higher VIF than 5.\n",
    "## This leaves us with a nice set of features with no collineraity\n",
    "\n",
    "def calculate_vif(X, thresh = 5.0):\n",
    "    variables = list(range(X.shape[1]))\n",
    "    dropped = True\n",
    "    while dropped:\n",
    "        dropped = False\n",
    "        # this bit uses list comprehension to gather all the VIF values of the different variables\n",
    "        vif = [variance_inflation_factor(X.iloc[:, variables].values, ix)\n",
    "               for ix in range(X.iloc[:, variables].shape[1])]\n",
    "        \n",
    "        maxloc = vif.index(max(vif)) # getting the index of the highest VIF value\n",
    "        if max(vif) > thresh:\n",
    "            print('dropping \\'' + X.iloc[:, variables].columns[maxloc] +\n",
    "                  '\\' at index: ' + str(maxloc))\n",
    "            del variables[maxloc] # we delete the highest VIF value on condition that it's higher than the threshold\n",
    "            dropped = True # if we deleted anything, we set the 'dropped' value to True to stay in the while loop\n",
    "\n",
    "    print('Remaining variables:')\n",
    "    print(X.columns[variables]) # finally, we print the variables that are still in our set\n",
    "    return X.iloc[:, variables] # and return our X cut down to the remaining variables"
   ]
  },
  {
   "cell_type": "code",
   "execution_count": 29,
   "id": "3504f7fc-afbe-457c-afc4-4a1cb560f919",
   "metadata": {
    "tags": []
   },
   "outputs": [
    {
     "name": "stdout",
     "output_type": "stream",
     "text": [
      "dropping 'Age' at index: 1\n",
      "dropping 'ZIP Code' at index: 3\n",
      "dropping 'Income' at index: 2\n",
      "Remaining variables:\n",
      "Index(['ID', 'Experience', 'Family', 'CCAvg', 'Education', 'Mortgage',\n",
      "       'Securities Account', 'CD Account', 'Online', 'CreditCard'],\n",
      "      dtype='object')\n"
     ]
    },
    {
     "data": {
      "text/html": [
       "<div>\n",
       "<style scoped>\n",
       "    .dataframe tbody tr th:only-of-type {\n",
       "        vertical-align: middle;\n",
       "    }\n",
       "\n",
       "    .dataframe tbody tr th {\n",
       "        vertical-align: top;\n",
       "    }\n",
       "\n",
       "    .dataframe thead th {\n",
       "        text-align: right;\n",
       "    }\n",
       "</style>\n",
       "<table border=\"1\" class=\"dataframe\">\n",
       "  <thead>\n",
       "    <tr style=\"text-align: right;\">\n",
       "      <th></th>\n",
       "      <th>ID</th>\n",
       "      <th>Experience</th>\n",
       "      <th>Family</th>\n",
       "      <th>CCAvg</th>\n",
       "      <th>Education</th>\n",
       "      <th>Mortgage</th>\n",
       "      <th>Securities Account</th>\n",
       "      <th>CD Account</th>\n",
       "      <th>Online</th>\n",
       "      <th>CreditCard</th>\n",
       "    </tr>\n",
       "  </thead>\n",
       "  <tbody>\n",
       "    <tr>\n",
       "      <th>0</th>\n",
       "      <td>1</td>\n",
       "      <td>1</td>\n",
       "      <td>4</td>\n",
       "      <td>1.6</td>\n",
       "      <td>1</td>\n",
       "      <td>0</td>\n",
       "      <td>1</td>\n",
       "      <td>0</td>\n",
       "      <td>0</td>\n",
       "      <td>0</td>\n",
       "    </tr>\n",
       "    <tr>\n",
       "      <th>1</th>\n",
       "      <td>2</td>\n",
       "      <td>19</td>\n",
       "      <td>3</td>\n",
       "      <td>1.5</td>\n",
       "      <td>1</td>\n",
       "      <td>0</td>\n",
       "      <td>1</td>\n",
       "      <td>0</td>\n",
       "      <td>0</td>\n",
       "      <td>0</td>\n",
       "    </tr>\n",
       "    <tr>\n",
       "      <th>2</th>\n",
       "      <td>3</td>\n",
       "      <td>15</td>\n",
       "      <td>1</td>\n",
       "      <td>1.0</td>\n",
       "      <td>1</td>\n",
       "      <td>0</td>\n",
       "      <td>0</td>\n",
       "      <td>0</td>\n",
       "      <td>0</td>\n",
       "      <td>0</td>\n",
       "    </tr>\n",
       "    <tr>\n",
       "      <th>3</th>\n",
       "      <td>4</td>\n",
       "      <td>9</td>\n",
       "      <td>1</td>\n",
       "      <td>2.7</td>\n",
       "      <td>2</td>\n",
       "      <td>0</td>\n",
       "      <td>0</td>\n",
       "      <td>0</td>\n",
       "      <td>0</td>\n",
       "      <td>0</td>\n",
       "    </tr>\n",
       "    <tr>\n",
       "      <th>4</th>\n",
       "      <td>5</td>\n",
       "      <td>8</td>\n",
       "      <td>4</td>\n",
       "      <td>1.0</td>\n",
       "      <td>2</td>\n",
       "      <td>0</td>\n",
       "      <td>0</td>\n",
       "      <td>0</td>\n",
       "      <td>0</td>\n",
       "      <td>1</td>\n",
       "    </tr>\n",
       "    <tr>\n",
       "      <th>...</th>\n",
       "      <td>...</td>\n",
       "      <td>...</td>\n",
       "      <td>...</td>\n",
       "      <td>...</td>\n",
       "      <td>...</td>\n",
       "      <td>...</td>\n",
       "      <td>...</td>\n",
       "      <td>...</td>\n",
       "      <td>...</td>\n",
       "      <td>...</td>\n",
       "    </tr>\n",
       "    <tr>\n",
       "      <th>4995</th>\n",
       "      <td>4996</td>\n",
       "      <td>3</td>\n",
       "      <td>1</td>\n",
       "      <td>1.9</td>\n",
       "      <td>3</td>\n",
       "      <td>0</td>\n",
       "      <td>0</td>\n",
       "      <td>0</td>\n",
       "      <td>1</td>\n",
       "      <td>0</td>\n",
       "    </tr>\n",
       "    <tr>\n",
       "      <th>4996</th>\n",
       "      <td>4997</td>\n",
       "      <td>4</td>\n",
       "      <td>4</td>\n",
       "      <td>0.4</td>\n",
       "      <td>1</td>\n",
       "      <td>85</td>\n",
       "      <td>0</td>\n",
       "      <td>0</td>\n",
       "      <td>1</td>\n",
       "      <td>0</td>\n",
       "    </tr>\n",
       "    <tr>\n",
       "      <th>4997</th>\n",
       "      <td>4998</td>\n",
       "      <td>39</td>\n",
       "      <td>2</td>\n",
       "      <td>0.3</td>\n",
       "      <td>3</td>\n",
       "      <td>0</td>\n",
       "      <td>0</td>\n",
       "      <td>0</td>\n",
       "      <td>0</td>\n",
       "      <td>0</td>\n",
       "    </tr>\n",
       "    <tr>\n",
       "      <th>4998</th>\n",
       "      <td>4999</td>\n",
       "      <td>40</td>\n",
       "      <td>3</td>\n",
       "      <td>0.5</td>\n",
       "      <td>2</td>\n",
       "      <td>0</td>\n",
       "      <td>0</td>\n",
       "      <td>0</td>\n",
       "      <td>1</td>\n",
       "      <td>0</td>\n",
       "    </tr>\n",
       "    <tr>\n",
       "      <th>4999</th>\n",
       "      <td>5000</td>\n",
       "      <td>4</td>\n",
       "      <td>3</td>\n",
       "      <td>0.8</td>\n",
       "      <td>1</td>\n",
       "      <td>0</td>\n",
       "      <td>0</td>\n",
       "      <td>0</td>\n",
       "      <td>1</td>\n",
       "      <td>1</td>\n",
       "    </tr>\n",
       "  </tbody>\n",
       "</table>\n",
       "<p>5000 rows × 10 columns</p>\n",
       "</div>"
      ],
      "text/plain": [
       "        ID  Experience  Family  CCAvg  Education  Mortgage  \\\n",
       "0        1           1       4    1.6          1         0   \n",
       "1        2          19       3    1.5          1         0   \n",
       "2        3          15       1    1.0          1         0   \n",
       "3        4           9       1    2.7          2         0   \n",
       "4        5           8       4    1.0          2         0   \n",
       "...    ...         ...     ...    ...        ...       ...   \n",
       "4995  4996           3       1    1.9          3         0   \n",
       "4996  4997           4       4    0.4          1        85   \n",
       "4997  4998          39       2    0.3          3         0   \n",
       "4998  4999          40       3    0.5          2         0   \n",
       "4999  5000           4       3    0.8          1         0   \n",
       "\n",
       "      Securities Account  CD Account  Online  CreditCard  \n",
       "0                      1           0       0           0  \n",
       "1                      1           0       0           0  \n",
       "2                      0           0       0           0  \n",
       "3                      0           0       0           0  \n",
       "4                      0           0       0           1  \n",
       "...                  ...         ...     ...         ...  \n",
       "4995                   0           0       1           0  \n",
       "4996                   0           0       1           0  \n",
       "4997                   0           0       0           0  \n",
       "4998                   0           0       1           0  \n",
       "4999                   0           0       1           1  \n",
       "\n",
       "[5000 rows x 10 columns]"
      ]
     },
     "execution_count": 29,
     "metadata": {},
     "output_type": "execute_result"
    }
   ],
   "source": [
    "calculate_vif(bank_df[feature_cols]) # Will drop the age column"
   ]
  },
  {
   "cell_type": "markdown",
   "id": "30f4d504-dc95-4c16-855c-1b32a29189da",
   "metadata": {
    "tags": []
   },
   "source": [
    "# 3. Train / Test Splitting the data"
   ]
  },
  {
   "cell_type": "code",
   "execution_count": 31,
   "id": "d47eb5d9-44ae-46b9-8763-4b29da045c99",
   "metadata": {
    "tags": []
   },
   "outputs": [],
   "source": [
    "X = bank_df.drop('Personal Loan', axis=1) # Features\n",
    "\n",
    "y = bank_df['Personal Loan'] # Target\n",
    "\n",
    "\n",
    "X_train, X_test, y_train, y_test = train_test_split(X,   #Features\n",
    "                                                    y,   #Target \n",
    "                                                    test_size=0.2,   #20% test size\n",
    "                                                    random_state=30) # So we don't keep getting different test sample/ train split -- IMPORTANT!\n"
   ]
  },
  {
   "cell_type": "code",
   "execution_count": 32,
   "id": "b0503817-a4d0-49ba-ba37-8f37aa58cb12",
   "metadata": {},
   "outputs": [
    {
     "data": {
      "text/plain": [
       "True"
      ]
     },
     "execution_count": 32,
     "metadata": {},
     "output_type": "execute_result"
    }
   ],
   "source": [
    "# Check train/test split successful\n",
    "all(X_train.index == y_train.index)"
   ]
  },
  {
   "cell_type": "markdown",
   "id": "c44cb7ef-9c3f-45bb-9533-9cfaca2e39e6",
   "metadata": {},
   "source": [
    "# 4. Feature Engineering"
   ]
  },
  {
   "cell_type": "code",
   "execution_count": 34,
   "id": "21103bf9-4bb3-48e9-8559-10a5fbc90600",
   "metadata": {
    "tags": []
   },
   "outputs": [],
   "source": [
    "def feature_eng(df):\n",
    "    # Drop non-useful columns\n",
    "    df_fe = df.drop(columns = ['ID','ZIP Code', 'Age', 'Income'],axis = 1)\n",
    "    \n",
    "    # Scaling data\n",
    "    columns_to_scale = ['Experience', 'Family', 'CCAvg', 'Mortgage']\n",
    "    \n",
    "    minmax = MinMaxScaler() # Initialize the MinMaxScaler\n",
    "    df_fe[columns_to_scale] = minmax.fit_transform(df_fe[columns_to_scale])\n",
    "    \n",
    "    \n",
    "    return df_fe"
   ]
  },
  {
   "cell_type": "code",
   "execution_count": 35,
   "id": "3e7edbb3-b0e1-41bb-912f-9f6cfc199c93",
   "metadata": {
    "tags": []
   },
   "outputs": [],
   "source": [
    "# Apply feature engineering on X_train, X_test\n",
    "X_train_fe = feature_eng(X_train)\n",
    "X_test_fe = feature_eng(X_test)"
   ]
  },
  {
   "cell_type": "code",
   "execution_count": 36,
   "id": "81c8a4b7-758f-4f64-8143-0a33e3881987",
   "metadata": {
    "tags": []
   },
   "outputs": [
    {
     "data": {
      "text/html": [
       "<div>\n",
       "<style scoped>\n",
       "    .dataframe tbody tr th:only-of-type {\n",
       "        vertical-align: middle;\n",
       "    }\n",
       "\n",
       "    .dataframe tbody tr th {\n",
       "        vertical-align: top;\n",
       "    }\n",
       "\n",
       "    .dataframe thead th {\n",
       "        text-align: right;\n",
       "    }\n",
       "</style>\n",
       "<table border=\"1\" class=\"dataframe\">\n",
       "  <thead>\n",
       "    <tr style=\"text-align: right;\">\n",
       "      <th></th>\n",
       "      <th>Experience</th>\n",
       "      <th>Family</th>\n",
       "      <th>CCAvg</th>\n",
       "      <th>Education</th>\n",
       "      <th>Mortgage</th>\n",
       "      <th>Securities Account</th>\n",
       "      <th>CD Account</th>\n",
       "      <th>Online</th>\n",
       "      <th>CreditCard</th>\n",
       "    </tr>\n",
       "  </thead>\n",
       "  <tbody>\n",
       "    <tr>\n",
       "      <th>1237</th>\n",
       "      <td>0.347826</td>\n",
       "      <td>0.000000</td>\n",
       "      <td>0.680</td>\n",
       "      <td>3</td>\n",
       "      <td>0.0</td>\n",
       "      <td>0</td>\n",
       "      <td>1</td>\n",
       "      <td>1</td>\n",
       "      <td>1</td>\n",
       "    </tr>\n",
       "    <tr>\n",
       "      <th>3076</th>\n",
       "      <td>0.043478</td>\n",
       "      <td>0.333333</td>\n",
       "      <td>0.175</td>\n",
       "      <td>3</td>\n",
       "      <td>0.0</td>\n",
       "      <td>0</td>\n",
       "      <td>0</td>\n",
       "      <td>0</td>\n",
       "      <td>1</td>\n",
       "    </tr>\n",
       "    <tr>\n",
       "      <th>3808</th>\n",
       "      <td>0.282609</td>\n",
       "      <td>0.333333</td>\n",
       "      <td>0.650</td>\n",
       "      <td>1</td>\n",
       "      <td>0.0</td>\n",
       "      <td>0</td>\n",
       "      <td>0</td>\n",
       "      <td>0</td>\n",
       "      <td>0</td>\n",
       "    </tr>\n",
       "  </tbody>\n",
       "</table>\n",
       "</div>"
      ],
      "text/plain": [
       "      Experience    Family  CCAvg  Education  Mortgage  Securities Account  \\\n",
       "1237    0.347826  0.000000  0.680          3       0.0                   0   \n",
       "3076    0.043478  0.333333  0.175          3       0.0                   0   \n",
       "3808    0.282609  0.333333  0.650          1       0.0                   0   \n",
       "\n",
       "      CD Account  Online  CreditCard  \n",
       "1237           1       1           1  \n",
       "3076           0       0           1  \n",
       "3808           0       0           0  "
      ]
     },
     "execution_count": 36,
     "metadata": {},
     "output_type": "execute_result"
    }
   ],
   "source": [
    "X_train_fe.head(3)"
   ]
  },
  {
   "cell_type": "markdown",
   "id": "1831f290-a9db-4363-ba78-7897884aaac3",
   "metadata": {
    "tags": []
   },
   "source": [
    "# 5. Logistic Regression"
   ]
  },
  {
   "cell_type": "code",
   "execution_count": 38,
   "id": "5ea368a1-7a66-4a0b-8369-962313f9ec03",
   "metadata": {},
   "outputs": [],
   "source": [
    "# Initialise model\n",
    "lr = LogisticRegression(max_iter=350, random_state=10)"
   ]
  },
  {
   "cell_type": "code",
   "execution_count": 39,
   "id": "ffd55392-6d38-4d9c-ad7e-e207364b1022",
   "metadata": {},
   "outputs": [
    {
     "data": {
      "text/html": [
       "<style>#sk-container-id-1 {color: black;background-color: white;}#sk-container-id-1 pre{padding: 0;}#sk-container-id-1 div.sk-toggleable {background-color: white;}#sk-container-id-1 label.sk-toggleable__label {cursor: pointer;display: block;width: 100%;margin-bottom: 0;padding: 0.3em;box-sizing: border-box;text-align: center;}#sk-container-id-1 label.sk-toggleable__label-arrow:before {content: \"▸\";float: left;margin-right: 0.25em;color: #696969;}#sk-container-id-1 label.sk-toggleable__label-arrow:hover:before {color: black;}#sk-container-id-1 div.sk-estimator:hover label.sk-toggleable__label-arrow:before {color: black;}#sk-container-id-1 div.sk-toggleable__content {max-height: 0;max-width: 0;overflow: hidden;text-align: left;background-color: #f0f8ff;}#sk-container-id-1 div.sk-toggleable__content pre {margin: 0.2em;color: black;border-radius: 0.25em;background-color: #f0f8ff;}#sk-container-id-1 input.sk-toggleable__control:checked~div.sk-toggleable__content {max-height: 200px;max-width: 100%;overflow: auto;}#sk-container-id-1 input.sk-toggleable__control:checked~label.sk-toggleable__label-arrow:before {content: \"▾\";}#sk-container-id-1 div.sk-estimator input.sk-toggleable__control:checked~label.sk-toggleable__label {background-color: #d4ebff;}#sk-container-id-1 div.sk-label input.sk-toggleable__control:checked~label.sk-toggleable__label {background-color: #d4ebff;}#sk-container-id-1 input.sk-hidden--visually {border: 0;clip: rect(1px 1px 1px 1px);clip: rect(1px, 1px, 1px, 1px);height: 1px;margin: -1px;overflow: hidden;padding: 0;position: absolute;width: 1px;}#sk-container-id-1 div.sk-estimator {font-family: monospace;background-color: #f0f8ff;border: 1px dotted black;border-radius: 0.25em;box-sizing: border-box;margin-bottom: 0.5em;}#sk-container-id-1 div.sk-estimator:hover {background-color: #d4ebff;}#sk-container-id-1 div.sk-parallel-item::after {content: \"\";width: 100%;border-bottom: 1px solid gray;flex-grow: 1;}#sk-container-id-1 div.sk-label:hover label.sk-toggleable__label {background-color: #d4ebff;}#sk-container-id-1 div.sk-serial::before {content: \"\";position: absolute;border-left: 1px solid gray;box-sizing: border-box;top: 0;bottom: 0;left: 50%;z-index: 0;}#sk-container-id-1 div.sk-serial {display: flex;flex-direction: column;align-items: center;background-color: white;padding-right: 0.2em;padding-left: 0.2em;position: relative;}#sk-container-id-1 div.sk-item {position: relative;z-index: 1;}#sk-container-id-1 div.sk-parallel {display: flex;align-items: stretch;justify-content: center;background-color: white;position: relative;}#sk-container-id-1 div.sk-item::before, #sk-container-id-1 div.sk-parallel-item::before {content: \"\";position: absolute;border-left: 1px solid gray;box-sizing: border-box;top: 0;bottom: 0;left: 50%;z-index: -1;}#sk-container-id-1 div.sk-parallel-item {display: flex;flex-direction: column;z-index: 1;position: relative;background-color: white;}#sk-container-id-1 div.sk-parallel-item:first-child::after {align-self: flex-end;width: 50%;}#sk-container-id-1 div.sk-parallel-item:last-child::after {align-self: flex-start;width: 50%;}#sk-container-id-1 div.sk-parallel-item:only-child::after {width: 0;}#sk-container-id-1 div.sk-dashed-wrapped {border: 1px dashed gray;margin: 0 0.4em 0.5em 0.4em;box-sizing: border-box;padding-bottom: 0.4em;background-color: white;}#sk-container-id-1 div.sk-label label {font-family: monospace;font-weight: bold;display: inline-block;line-height: 1.2em;}#sk-container-id-1 div.sk-label-container {text-align: center;}#sk-container-id-1 div.sk-container {/* jupyter's `normalize.less` sets `[hidden] { display: none; }` but bootstrap.min.css set `[hidden] { display: none !important; }` so we also need the `!important` here to be able to override the default hidden behavior on the sphinx rendered scikit-learn.org. See: https://github.com/scikit-learn/scikit-learn/issues/21755 */display: inline-block !important;position: relative;}#sk-container-id-1 div.sk-text-repr-fallback {display: none;}</style><div id=\"sk-container-id-1\" class=\"sk-top-container\"><div class=\"sk-text-repr-fallback\"><pre>GridSearchCV(cv=5, estimator=LogisticRegression(max_iter=350, random_state=10),\n",
       "             param_grid={&#x27;C&#x27;: [100], &#x27;max_iter&#x27;: [300], &#x27;penalty&#x27;: [&#x27;l2&#x27;],\n",
       "                         &#x27;solver&#x27;: [&#x27;lbfgs&#x27;]},\n",
       "             scoring=&#x27;accuracy&#x27;)</pre><b>In a Jupyter environment, please rerun this cell to show the HTML representation or trust the notebook. <br />On GitHub, the HTML representation is unable to render, please try loading this page with nbviewer.org.</b></div><div class=\"sk-container\" hidden><div class=\"sk-item sk-dashed-wrapped\"><div class=\"sk-label-container\"><div class=\"sk-label sk-toggleable\"><input class=\"sk-toggleable__control sk-hidden--visually\" id=\"sk-estimator-id-1\" type=\"checkbox\" ><label for=\"sk-estimator-id-1\" class=\"sk-toggleable__label sk-toggleable__label-arrow\">GridSearchCV</label><div class=\"sk-toggleable__content\"><pre>GridSearchCV(cv=5, estimator=LogisticRegression(max_iter=350, random_state=10),\n",
       "             param_grid={&#x27;C&#x27;: [100], &#x27;max_iter&#x27;: [300], &#x27;penalty&#x27;: [&#x27;l2&#x27;],\n",
       "                         &#x27;solver&#x27;: [&#x27;lbfgs&#x27;]},\n",
       "             scoring=&#x27;accuracy&#x27;)</pre></div></div></div><div class=\"sk-parallel\"><div class=\"sk-parallel-item\"><div class=\"sk-item\"><div class=\"sk-label-container\"><div class=\"sk-label sk-toggleable\"><input class=\"sk-toggleable__control sk-hidden--visually\" id=\"sk-estimator-id-2\" type=\"checkbox\" ><label for=\"sk-estimator-id-2\" class=\"sk-toggleable__label sk-toggleable__label-arrow\">estimator: LogisticRegression</label><div class=\"sk-toggleable__content\"><pre>LogisticRegression(max_iter=350, random_state=10)</pre></div></div></div><div class=\"sk-serial\"><div class=\"sk-item\"><div class=\"sk-estimator sk-toggleable\"><input class=\"sk-toggleable__control sk-hidden--visually\" id=\"sk-estimator-id-3\" type=\"checkbox\" ><label for=\"sk-estimator-id-3\" class=\"sk-toggleable__label sk-toggleable__label-arrow\">LogisticRegression</label><div class=\"sk-toggleable__content\"><pre>LogisticRegression(max_iter=350, random_state=10)</pre></div></div></div></div></div></div></div></div></div></div>"
      ],
      "text/plain": [
       "GridSearchCV(cv=5, estimator=LogisticRegression(max_iter=350, random_state=10),\n",
       "             param_grid={'C': [100], 'max_iter': [300], 'penalty': ['l2'],\n",
       "                         'solver': ['lbfgs']},\n",
       "             scoring='accuracy')"
      ]
     },
     "execution_count": 39,
     "metadata": {},
     "output_type": "execute_result"
    }
   ],
   "source": [
    "# Define the hyperparameter grid\n",
    "# param_grid = {\n",
    "#     'C': [0.001, 0.01, 0.1, 1, 10, 100],\n",
    "#     'penalty': ['l1', 'l2', 'elasticnet', 'none'],\n",
    "#     'solver': ['newton-cg', 'lbfgs', 'liblinear', 'sag', 'saga'],\n",
    "#     'max_iter': [100, 200, 300] }\n",
    "# All these were tested best model parameters entered below:\n",
    "\n",
    "param_grid = {\n",
    "    'C': [100], \n",
    "    'max_iter': [300],\n",
    "    'penalty': ['l2'],\n",
    "    'solver': ['lbfgs']\n",
    "} \n",
    "\n",
    "\n",
    "# Setup the grid search\n",
    "grid_search = GridSearchCV(lr, param_grid, cv=5, scoring='accuracy')\n",
    "\n",
    "# Fit the model\n",
    "grid_search.fit(X_train_fe, y_train)"
   ]
  },
  {
   "cell_type": "code",
   "execution_count": 40,
   "id": "d98cce9a-5918-42aa-90b8-85cf6363414a",
   "metadata": {},
   "outputs": [
    {
     "name": "stdout",
     "output_type": "stream",
     "text": [
      "Best parameters found:  {'C': 100, 'max_iter': 300, 'penalty': 'l2', 'solver': 'lbfgs'}\n",
      "Best accuracy score:  0.924\n"
     ]
    }
   ],
   "source": [
    "# Best parameters and best score\n",
    "print(\"Best parameters found: \", grid_search.best_params_)\n",
    "print(\"Best accuracy score: \", grid_search.best_score_)"
   ]
  },
  {
   "cell_type": "code",
   "execution_count": 41,
   "id": "d736dd41-103d-4171-806e-a1ffc85b42cc",
   "metadata": {
    "tags": []
   },
   "outputs": [
    {
     "data": {
      "text/html": [
       "<style>#sk-container-id-2 {color: black;background-color: white;}#sk-container-id-2 pre{padding: 0;}#sk-container-id-2 div.sk-toggleable {background-color: white;}#sk-container-id-2 label.sk-toggleable__label {cursor: pointer;display: block;width: 100%;margin-bottom: 0;padding: 0.3em;box-sizing: border-box;text-align: center;}#sk-container-id-2 label.sk-toggleable__label-arrow:before {content: \"▸\";float: left;margin-right: 0.25em;color: #696969;}#sk-container-id-2 label.sk-toggleable__label-arrow:hover:before {color: black;}#sk-container-id-2 div.sk-estimator:hover label.sk-toggleable__label-arrow:before {color: black;}#sk-container-id-2 div.sk-toggleable__content {max-height: 0;max-width: 0;overflow: hidden;text-align: left;background-color: #f0f8ff;}#sk-container-id-2 div.sk-toggleable__content pre {margin: 0.2em;color: black;border-radius: 0.25em;background-color: #f0f8ff;}#sk-container-id-2 input.sk-toggleable__control:checked~div.sk-toggleable__content {max-height: 200px;max-width: 100%;overflow: auto;}#sk-container-id-2 input.sk-toggleable__control:checked~label.sk-toggleable__label-arrow:before {content: \"▾\";}#sk-container-id-2 div.sk-estimator input.sk-toggleable__control:checked~label.sk-toggleable__label {background-color: #d4ebff;}#sk-container-id-2 div.sk-label input.sk-toggleable__control:checked~label.sk-toggleable__label {background-color: #d4ebff;}#sk-container-id-2 input.sk-hidden--visually {border: 0;clip: rect(1px 1px 1px 1px);clip: rect(1px, 1px, 1px, 1px);height: 1px;margin: -1px;overflow: hidden;padding: 0;position: absolute;width: 1px;}#sk-container-id-2 div.sk-estimator {font-family: monospace;background-color: #f0f8ff;border: 1px dotted black;border-radius: 0.25em;box-sizing: border-box;margin-bottom: 0.5em;}#sk-container-id-2 div.sk-estimator:hover {background-color: #d4ebff;}#sk-container-id-2 div.sk-parallel-item::after {content: \"\";width: 100%;border-bottom: 1px solid gray;flex-grow: 1;}#sk-container-id-2 div.sk-label:hover label.sk-toggleable__label {background-color: #d4ebff;}#sk-container-id-2 div.sk-serial::before {content: \"\";position: absolute;border-left: 1px solid gray;box-sizing: border-box;top: 0;bottom: 0;left: 50%;z-index: 0;}#sk-container-id-2 div.sk-serial {display: flex;flex-direction: column;align-items: center;background-color: white;padding-right: 0.2em;padding-left: 0.2em;position: relative;}#sk-container-id-2 div.sk-item {position: relative;z-index: 1;}#sk-container-id-2 div.sk-parallel {display: flex;align-items: stretch;justify-content: center;background-color: white;position: relative;}#sk-container-id-2 div.sk-item::before, #sk-container-id-2 div.sk-parallel-item::before {content: \"\";position: absolute;border-left: 1px solid gray;box-sizing: border-box;top: 0;bottom: 0;left: 50%;z-index: -1;}#sk-container-id-2 div.sk-parallel-item {display: flex;flex-direction: column;z-index: 1;position: relative;background-color: white;}#sk-container-id-2 div.sk-parallel-item:first-child::after {align-self: flex-end;width: 50%;}#sk-container-id-2 div.sk-parallel-item:last-child::after {align-self: flex-start;width: 50%;}#sk-container-id-2 div.sk-parallel-item:only-child::after {width: 0;}#sk-container-id-2 div.sk-dashed-wrapped {border: 1px dashed gray;margin: 0 0.4em 0.5em 0.4em;box-sizing: border-box;padding-bottom: 0.4em;background-color: white;}#sk-container-id-2 div.sk-label label {font-family: monospace;font-weight: bold;display: inline-block;line-height: 1.2em;}#sk-container-id-2 div.sk-label-container {text-align: center;}#sk-container-id-2 div.sk-container {/* jupyter's `normalize.less` sets `[hidden] { display: none; }` but bootstrap.min.css set `[hidden] { display: none !important; }` so we also need the `!important` here to be able to override the default hidden behavior on the sphinx rendered scikit-learn.org. See: https://github.com/scikit-learn/scikit-learn/issues/21755 */display: inline-block !important;position: relative;}#sk-container-id-2 div.sk-text-repr-fallback {display: none;}</style><div id=\"sk-container-id-2\" class=\"sk-top-container\"><div class=\"sk-text-repr-fallback\"><pre>LogisticRegression(C=100, penalty=&#x27;l1&#x27;, random_state=10, solver=&#x27;liblinear&#x27;)</pre><b>In a Jupyter environment, please rerun this cell to show the HTML representation or trust the notebook. <br />On GitHub, the HTML representation is unable to render, please try loading this page with nbviewer.org.</b></div><div class=\"sk-container\" hidden><div class=\"sk-item\"><div class=\"sk-estimator sk-toggleable\"><input class=\"sk-toggleable__control sk-hidden--visually\" id=\"sk-estimator-id-4\" type=\"checkbox\" checked><label for=\"sk-estimator-id-4\" class=\"sk-toggleable__label sk-toggleable__label-arrow\">LogisticRegression</label><div class=\"sk-toggleable__content\"><pre>LogisticRegression(C=100, penalty=&#x27;l1&#x27;, random_state=10, solver=&#x27;liblinear&#x27;)</pre></div></div></div></div></div>"
      ],
      "text/plain": [
       "LogisticRegression(C=100, penalty='l1', random_state=10, solver='liblinear')"
      ]
     },
     "execution_count": 41,
     "metadata": {},
     "output_type": "execute_result"
    }
   ],
   "source": [
    "# Apply best parameters and fit the model on \n",
    "lr = LogisticRegression(C= 100, max_iter= 100, penalty= 'l1', solver= 'liblinear', random_state=10)\n",
    "lr.fit(X_train_fe, y_train)"
   ]
  },
  {
   "cell_type": "markdown",
   "id": "bdacb256-d738-4bac-ad00-f381d4e0849a",
   "metadata": {},
   "source": [
    "# Test Results:\n",
    "Best parameters found:  {'C': 100, 'max_iter': 100, 'penalty': 'l1', 'solver': 'liblinear'}\n",
    "\n",
    "Best accuracy score:  0.9502499999999999"
   ]
  },
  {
   "cell_type": "code",
   "execution_count": 43,
   "id": "9df33505-fe27-4c2e-8162-5b8c40db7c13",
   "metadata": {},
   "outputs": [
    {
     "data": {
      "text/plain": [
       "array([[0.05410245, 0.94589755],\n",
       "       [0.95907646, 0.04092354],\n",
       "       [0.70793332, 0.29206668],\n",
       "       ...,\n",
       "       [0.99323615, 0.00676385],\n",
       "       [0.49496973, 0.50503027],\n",
       "       [0.93250648, 0.06749352]])"
      ]
     },
     "execution_count": 43,
     "metadata": {},
     "output_type": "execute_result"
    }
   ],
   "source": [
    "# Make prediction on our train data\n",
    "lr.predict_proba(X_train_fe)"
   ]
  },
  {
   "cell_type": "code",
   "execution_count": 44,
   "id": "70f34be3-cbf4-427f-bd9b-276a3d62f32c",
   "metadata": {
    "tags": []
   },
   "outputs": [],
   "source": [
    "# store data in 2 columns called 'deny_loan' and 'accept_loan'\n",
    "X_train_fe[['deny_loan', 'accept_loan']] = lr.predict_proba(X_train_fe)"
   ]
  },
  {
   "cell_type": "code",
   "execution_count": 45,
   "id": "df83c40b-8ef8-428f-ba05-ccf9c05ed9f3",
   "metadata": {
    "tags": []
   },
   "outputs": [
    {
     "data": {
      "text/html": [
       "<div>\n",
       "<style scoped>\n",
       "    .dataframe tbody tr th:only-of-type {\n",
       "        vertical-align: middle;\n",
       "    }\n",
       "\n",
       "    .dataframe tbody tr th {\n",
       "        vertical-align: top;\n",
       "    }\n",
       "\n",
       "    .dataframe thead th {\n",
       "        text-align: right;\n",
       "    }\n",
       "</style>\n",
       "<table border=\"1\" class=\"dataframe\">\n",
       "  <thead>\n",
       "    <tr style=\"text-align: right;\">\n",
       "      <th></th>\n",
       "      <th>Experience</th>\n",
       "      <th>Family</th>\n",
       "      <th>CCAvg</th>\n",
       "      <th>Education</th>\n",
       "      <th>Mortgage</th>\n",
       "      <th>Securities Account</th>\n",
       "      <th>CD Account</th>\n",
       "      <th>Online</th>\n",
       "      <th>CreditCard</th>\n",
       "      <th>deny_loan</th>\n",
       "      <th>accept_loan</th>\n",
       "    </tr>\n",
       "  </thead>\n",
       "  <tbody>\n",
       "    <tr>\n",
       "      <th>1237</th>\n",
       "      <td>0.347826</td>\n",
       "      <td>0.000000</td>\n",
       "      <td>0.680</td>\n",
       "      <td>3</td>\n",
       "      <td>0.000000</td>\n",
       "      <td>0</td>\n",
       "      <td>1</td>\n",
       "      <td>1</td>\n",
       "      <td>1</td>\n",
       "      <td>0.054102</td>\n",
       "      <td>0.945898</td>\n",
       "    </tr>\n",
       "    <tr>\n",
       "      <th>3076</th>\n",
       "      <td>0.043478</td>\n",
       "      <td>0.333333</td>\n",
       "      <td>0.175</td>\n",
       "      <td>3</td>\n",
       "      <td>0.000000</td>\n",
       "      <td>0</td>\n",
       "      <td>0</td>\n",
       "      <td>0</td>\n",
       "      <td>1</td>\n",
       "      <td>0.959076</td>\n",
       "      <td>0.040924</td>\n",
       "    </tr>\n",
       "    <tr>\n",
       "      <th>3808</th>\n",
       "      <td>0.282609</td>\n",
       "      <td>0.333333</td>\n",
       "      <td>0.650</td>\n",
       "      <td>1</td>\n",
       "      <td>0.000000</td>\n",
       "      <td>0</td>\n",
       "      <td>0</td>\n",
       "      <td>0</td>\n",
       "      <td>0</td>\n",
       "      <td>0.707933</td>\n",
       "      <td>0.292067</td>\n",
       "    </tr>\n",
       "    <tr>\n",
       "      <th>1734</th>\n",
       "      <td>0.282609</td>\n",
       "      <td>1.000000</td>\n",
       "      <td>0.210</td>\n",
       "      <td>3</td>\n",
       "      <td>0.286614</td>\n",
       "      <td>0</td>\n",
       "      <td>0</td>\n",
       "      <td>1</td>\n",
       "      <td>0</td>\n",
       "      <td>0.737720</td>\n",
       "      <td>0.262280</td>\n",
       "    </tr>\n",
       "    <tr>\n",
       "      <th>2959</th>\n",
       "      <td>0.326087</td>\n",
       "      <td>1.000000</td>\n",
       "      <td>0.020</td>\n",
       "      <td>1</td>\n",
       "      <td>0.000000</td>\n",
       "      <td>0</td>\n",
       "      <td>0</td>\n",
       "      <td>0</td>\n",
       "      <td>0</td>\n",
       "      <td>0.986608</td>\n",
       "      <td>0.013392</td>\n",
       "    </tr>\n",
       "  </tbody>\n",
       "</table>\n",
       "</div>"
      ],
      "text/plain": [
       "      Experience    Family  CCAvg  Education  Mortgage  Securities Account  \\\n",
       "1237    0.347826  0.000000  0.680          3  0.000000                   0   \n",
       "3076    0.043478  0.333333  0.175          3  0.000000                   0   \n",
       "3808    0.282609  0.333333  0.650          1  0.000000                   0   \n",
       "1734    0.282609  1.000000  0.210          3  0.286614                   0   \n",
       "2959    0.326087  1.000000  0.020          1  0.000000                   0   \n",
       "\n",
       "      CD Account  Online  CreditCard  deny_loan  accept_loan  \n",
       "1237           1       1           1   0.054102     0.945898  \n",
       "3076           0       0           1   0.959076     0.040924  \n",
       "3808           0       0           0   0.707933     0.292067  \n",
       "1734           0       1           0   0.737720     0.262280  \n",
       "2959           0       0           0   0.986608     0.013392  "
      ]
     },
     "execution_count": 45,
     "metadata": {},
     "output_type": "execute_result"
    }
   ],
   "source": [
    "X_train_fe.head()"
   ]
  },
  {
   "cell_type": "code",
   "execution_count": 46,
   "id": "e43b3eef-0149-4fab-940c-4f1c64733b77",
   "metadata": {
    "tags": []
   },
   "outputs": [],
   "source": [
    "# Make a prediction column based on probability (0.5)\n",
    "X_train_fe['y_pred'] = np.where(X_train_fe['accept_loan']>.5, #condition set\n",
    "                              1, # output if condition is true\n",
    "                              0)# output if condition is false"
   ]
  },
  {
   "cell_type": "code",
   "execution_count": 47,
   "id": "55cc0524-d51e-420f-9432-8c61320e3ac5",
   "metadata": {
    "tags": []
   },
   "outputs": [
    {
     "data": {
      "text/html": [
       "<div>\n",
       "<style scoped>\n",
       "    .dataframe tbody tr th:only-of-type {\n",
       "        vertical-align: middle;\n",
       "    }\n",
       "\n",
       "    .dataframe tbody tr th {\n",
       "        vertical-align: top;\n",
       "    }\n",
       "\n",
       "    .dataframe thead th {\n",
       "        text-align: right;\n",
       "    }\n",
       "</style>\n",
       "<table border=\"1\" class=\"dataframe\">\n",
       "  <thead>\n",
       "    <tr style=\"text-align: right;\">\n",
       "      <th></th>\n",
       "      <th>Experience</th>\n",
       "      <th>Family</th>\n",
       "      <th>CCAvg</th>\n",
       "      <th>Education</th>\n",
       "      <th>Mortgage</th>\n",
       "      <th>Securities Account</th>\n",
       "      <th>CD Account</th>\n",
       "      <th>Online</th>\n",
       "      <th>CreditCard</th>\n",
       "      <th>deny_loan</th>\n",
       "      <th>accept_loan</th>\n",
       "      <th>y_pred</th>\n",
       "    </tr>\n",
       "  </thead>\n",
       "  <tbody>\n",
       "    <tr>\n",
       "      <th>1237</th>\n",
       "      <td>0.347826</td>\n",
       "      <td>0.000000</td>\n",
       "      <td>0.680</td>\n",
       "      <td>3</td>\n",
       "      <td>0.0</td>\n",
       "      <td>0</td>\n",
       "      <td>1</td>\n",
       "      <td>1</td>\n",
       "      <td>1</td>\n",
       "      <td>0.054102</td>\n",
       "      <td>0.945898</td>\n",
       "      <td>1</td>\n",
       "    </tr>\n",
       "    <tr>\n",
       "      <th>3076</th>\n",
       "      <td>0.043478</td>\n",
       "      <td>0.333333</td>\n",
       "      <td>0.175</td>\n",
       "      <td>3</td>\n",
       "      <td>0.0</td>\n",
       "      <td>0</td>\n",
       "      <td>0</td>\n",
       "      <td>0</td>\n",
       "      <td>1</td>\n",
       "      <td>0.959076</td>\n",
       "      <td>0.040924</td>\n",
       "      <td>0</td>\n",
       "    </tr>\n",
       "    <tr>\n",
       "      <th>3808</th>\n",
       "      <td>0.282609</td>\n",
       "      <td>0.333333</td>\n",
       "      <td>0.650</td>\n",
       "      <td>1</td>\n",
       "      <td>0.0</td>\n",
       "      <td>0</td>\n",
       "      <td>0</td>\n",
       "      <td>0</td>\n",
       "      <td>0</td>\n",
       "      <td>0.707933</td>\n",
       "      <td>0.292067</td>\n",
       "      <td>0</td>\n",
       "    </tr>\n",
       "  </tbody>\n",
       "</table>\n",
       "</div>"
      ],
      "text/plain": [
       "      Experience    Family  CCAvg  Education  Mortgage  Securities Account  \\\n",
       "1237    0.347826  0.000000  0.680          3       0.0                   0   \n",
       "3076    0.043478  0.333333  0.175          3       0.0                   0   \n",
       "3808    0.282609  0.333333  0.650          1       0.0                   0   \n",
       "\n",
       "      CD Account  Online  CreditCard  deny_loan  accept_loan  y_pred  \n",
       "1237           1       1           1   0.054102     0.945898       1  \n",
       "3076           0       0           1   0.959076     0.040924       0  \n",
       "3808           0       0           0   0.707933     0.292067       0  "
      ]
     },
     "execution_count": 47,
     "metadata": {},
     "output_type": "execute_result"
    }
   ],
   "source": [
    "X_train_fe.head(3)"
   ]
  },
  {
   "cell_type": "markdown",
   "id": "ec73df10-eb59-4bfe-9b16-08c517fda648",
   "metadata": {},
   "source": [
    "# 6. Performance Evaluation"
   ]
  },
  {
   "cell_type": "code",
   "execution_count": 49,
   "id": "3771ea06-53ef-4446-b368-17dc9a4ce62c",
   "metadata": {
    "tags": []
   },
   "outputs": [
    {
     "name": "stdout",
     "output_type": "stream",
     "text": [
      "[[3560   50]\n",
      " [ 254  136]]\n"
     ]
    }
   ],
   "source": [
    "## We'll use our trusty confusion matrix to answer the question above. Let's first have a look at it on its own\n",
    "print(metrics.confusion_matrix(y_train, #Actual\n",
    "                               X_train_fe['y_pred'])) # Predicted"
   ]
  },
  {
   "cell_type": "code",
   "execution_count": 50,
   "id": "113b25cd-f3d4-491f-ab6e-1303290ce588",
   "metadata": {
    "tags": []
   },
   "outputs": [
    {
     "data": {
      "image/png": "[encoded data removed]",
      "text/plain": [
       "<Figure size 640x480 with 2 Axes>"
      ]
     },
     "metadata": {},
     "output_type": "display_data"
    }
   ],
   "source": [
    "metrics.ConfusionMatrixDisplay(metrics.confusion_matrix(y_train, X_train_fe['y_pred'])).plot()\n",
    "plt.show()"
   ]
  },
  {
   "cell_type": "code",
   "execution_count": 51,
   "id": "6f66bb3d-a766-4009-8006-1bfe67c7dca7",
   "metadata": {
    "tags": []
   },
   "outputs": [],
   "source": [
    "## There are 4 main metrics we're interested in at this stage: accuracy, precision, recall and F1.\n",
    "## The 'metrics' module from sklearn covers all of them (and more!) So we can use a function like the one below\n",
    "\n",
    "def get_results(actual, predicted):\n",
    "    print(\"The confusion matrix for your predictions is:\")\n",
    "    print(metrics.confusion_matrix(actual, predicted), \"\\n\")\n",
    "    print(f'The accuracy of your model is: {metrics.accuracy_score(actual, predicted)}')\n",
    "    print(f'The recall of your model is: {metrics.recall_score(actual, predicted)}')\n",
    "    print(f'The precision of your model is: {metrics.precision_score(actual, predicted)}')\n",
    "    print(f'The F1-score of your model is: {metrics.f1_score(actual, predicted)}')"
   ]
  },
  {
   "cell_type": "code",
   "execution_count": 52,
   "id": "f878747b-0890-4dd8-a284-7405d8046553",
   "metadata": {
    "tags": []
   },
   "outputs": [
    {
     "name": "stdout",
     "output_type": "stream",
     "text": [
      "The confusion matrix for your predictions is:\n",
      "[[3560   50]\n",
      " [ 254  136]] \n",
      "\n",
      "The accuracy of your model is: 0.924\n",
      "The recall of your model is: 0.3487179487179487\n",
      "The precision of your model is: 0.7311827956989247\n",
      "The F1-score of your model is: 0.47222222222222227\n"
     ]
    }
   ],
   "source": [
    "## Now, we simply apply the function on our predictions\n",
    "get_results(y_train, X_train_fe['y_pred'])"
   ]
  },
  {
   "cell_type": "markdown",
   "id": "2565443a-f470-472c-b286-a788ef3567b1",
   "metadata": {},
   "source": [
    "# 6.1 Performance on test"
   ]
  },
  {
   "cell_type": "code",
   "execution_count": 54,
   "id": "5cf3f38a-8c53-44b5-a81e-98c128f460a0",
   "metadata": {
    "tags": []
   },
   "outputs": [],
   "source": [
    "# # Insert test data into model\n",
    "# lr.fit(X_test_fe, y_test) # LogisticRegression(C= 100, max_iter= 100, penalty= 'l1', solver= 'liblinear', random_state=10)"
   ]
  },
  {
   "cell_type": "code",
   "execution_count": 55,
   "id": "fd326fc8-e556-41fd-9e64-c5ad036632e9",
   "metadata": {
    "tags": []
   },
   "outputs": [
    {
     "data": {
      "text/plain": [
       "array([[0.99102303, 0.00897697],\n",
       "       [0.67425853, 0.32574147],\n",
       "       [0.84408924, 0.15591076],\n",
       "       ...,\n",
       "       [0.91288143, 0.08711857],\n",
       "       [0.9787221 , 0.0212779 ],\n",
       "       [0.93353644, 0.06646356]])"
      ]
     },
     "execution_count": 55,
     "metadata": {},
     "output_type": "execute_result"
    }
   ],
   "source": [
    "# Make prediction on our test data\n",
    "lr.predict_proba(X_test_fe)"
   ]
  },
  {
   "cell_type": "code",
   "execution_count": 56,
   "id": "5c680f9f-4399-483f-ac91-86397b2ef7af",
   "metadata": {
    "tags": []
   },
   "outputs": [],
   "source": [
    "# store data in 2 columns called 'deny_loan' and 'accept_loan'\n",
    "X_test_fe[['deny_loan', 'accept_loan']] = lr.predict_proba(X_test_fe)"
   ]
  },
  {
   "cell_type": "code",
   "execution_count": 57,
   "id": "5bd4b2f8-40c6-4c75-a4fc-23065cb09d38",
   "metadata": {
    "tags": []
   },
   "outputs": [
    {
     "data": {
      "text/html": [
       "<div>\n",
       "<style scoped>\n",
       "    .dataframe tbody tr th:only-of-type {\n",
       "        vertical-align: middle;\n",
       "    }\n",
       "\n",
       "    .dataframe tbody tr th {\n",
       "        vertical-align: top;\n",
       "    }\n",
       "\n",
       "    .dataframe thead th {\n",
       "        text-align: right;\n",
       "    }\n",
       "</style>\n",
       "<table border=\"1\" class=\"dataframe\">\n",
       "  <thead>\n",
       "    <tr style=\"text-align: right;\">\n",
       "      <th></th>\n",
       "      <th>Experience</th>\n",
       "      <th>Family</th>\n",
       "      <th>CCAvg</th>\n",
       "      <th>Education</th>\n",
       "      <th>Mortgage</th>\n",
       "      <th>Securities Account</th>\n",
       "      <th>CD Account</th>\n",
       "      <th>Online</th>\n",
       "      <th>CreditCard</th>\n",
       "      <th>deny_loan</th>\n",
       "      <th>accept_loan</th>\n",
       "    </tr>\n",
       "  </thead>\n",
       "  <tbody>\n",
       "    <tr>\n",
       "      <th>2192</th>\n",
       "      <td>0.088889</td>\n",
       "      <td>1.0</td>\n",
       "      <td>0.10</td>\n",
       "      <td>1</td>\n",
       "      <td>0.163230</td>\n",
       "      <td>0</td>\n",
       "      <td>0</td>\n",
       "      <td>0</td>\n",
       "      <td>1</td>\n",
       "      <td>0.991023</td>\n",
       "      <td>0.008977</td>\n",
       "    </tr>\n",
       "    <tr>\n",
       "      <th>911</th>\n",
       "      <td>0.533333</td>\n",
       "      <td>1.0</td>\n",
       "      <td>0.26</td>\n",
       "      <td>3</td>\n",
       "      <td>0.000000</td>\n",
       "      <td>0</td>\n",
       "      <td>0</td>\n",
       "      <td>0</td>\n",
       "      <td>0</td>\n",
       "      <td>0.674259</td>\n",
       "      <td>0.325741</td>\n",
       "    </tr>\n",
       "    <tr>\n",
       "      <th>3061</th>\n",
       "      <td>0.355556</td>\n",
       "      <td>0.0</td>\n",
       "      <td>0.40</td>\n",
       "      <td>3</td>\n",
       "      <td>0.353952</td>\n",
       "      <td>1</td>\n",
       "      <td>0</td>\n",
       "      <td>1</td>\n",
       "      <td>0</td>\n",
       "      <td>0.844089</td>\n",
       "      <td>0.155911</td>\n",
       "    </tr>\n",
       "  </tbody>\n",
       "</table>\n",
       "</div>"
      ],
      "text/plain": [
       "      Experience  Family  CCAvg  Education  Mortgage  Securities Account  \\\n",
       "2192    0.088889     1.0   0.10          1  0.163230                   0   \n",
       "911     0.533333     1.0   0.26          3  0.000000                   0   \n",
       "3061    0.355556     0.0   0.40          3  0.353952                   1   \n",
       "\n",
       "      CD Account  Online  CreditCard  deny_loan  accept_loan  \n",
       "2192           0       0           1   0.991023     0.008977  \n",
       "911            0       0           0   0.674259     0.325741  \n",
       "3061           0       1           0   0.844089     0.155911  "
      ]
     },
     "execution_count": 57,
     "metadata": {},
     "output_type": "execute_result"
    }
   ],
   "source": [
    "X_test_fe.head(3)"
   ]
  },
  {
   "cell_type": "code",
   "execution_count": 58,
   "id": "81937e31-06f4-4e81-9d5e-700854a471c7",
   "metadata": {
    "tags": []
   },
   "outputs": [],
   "source": [
    "# Make a prediction column based on probability (0.5)\n",
    "X_test_fe['y_pred'] = np.where(X_test_fe['accept_loan']>.5, #condition set\n",
    "                              1, # output if condition is true\n",
    "                              0)# output if condition is false"
   ]
  },
  {
   "cell_type": "code",
   "execution_count": 59,
   "id": "b2fccdf6-3329-45cb-ae6c-0d770d2ea26b",
   "metadata": {
    "tags": []
   },
   "outputs": [
    {
     "data": {
      "text/html": [
       "<div>\n",
       "<style scoped>\n",
       "    .dataframe tbody tr th:only-of-type {\n",
       "        vertical-align: middle;\n",
       "    }\n",
       "\n",
       "    .dataframe tbody tr th {\n",
       "        vertical-align: top;\n",
       "    }\n",
       "\n",
       "    .dataframe thead th {\n",
       "        text-align: right;\n",
       "    }\n",
       "</style>\n",
       "<table border=\"1\" class=\"dataframe\">\n",
       "  <thead>\n",
       "    <tr style=\"text-align: right;\">\n",
       "      <th></th>\n",
       "      <th>Experience</th>\n",
       "      <th>Family</th>\n",
       "      <th>CCAvg</th>\n",
       "      <th>Education</th>\n",
       "      <th>Mortgage</th>\n",
       "      <th>Securities Account</th>\n",
       "      <th>CD Account</th>\n",
       "      <th>Online</th>\n",
       "      <th>CreditCard</th>\n",
       "      <th>deny_loan</th>\n",
       "      <th>accept_loan</th>\n",
       "      <th>y_pred</th>\n",
       "    </tr>\n",
       "  </thead>\n",
       "  <tbody>\n",
       "    <tr>\n",
       "      <th>2192</th>\n",
       "      <td>0.088889</td>\n",
       "      <td>1.000000</td>\n",
       "      <td>0.10</td>\n",
       "      <td>1</td>\n",
       "      <td>0.163230</td>\n",
       "      <td>0</td>\n",
       "      <td>0</td>\n",
       "      <td>0</td>\n",
       "      <td>1</td>\n",
       "      <td>0.991023</td>\n",
       "      <td>0.008977</td>\n",
       "      <td>0</td>\n",
       "    </tr>\n",
       "    <tr>\n",
       "      <th>911</th>\n",
       "      <td>0.533333</td>\n",
       "      <td>1.000000</td>\n",
       "      <td>0.26</td>\n",
       "      <td>3</td>\n",
       "      <td>0.000000</td>\n",
       "      <td>0</td>\n",
       "      <td>0</td>\n",
       "      <td>0</td>\n",
       "      <td>0</td>\n",
       "      <td>0.674259</td>\n",
       "      <td>0.325741</td>\n",
       "      <td>0</td>\n",
       "    </tr>\n",
       "    <tr>\n",
       "      <th>3061</th>\n",
       "      <td>0.355556</td>\n",
       "      <td>0.000000</td>\n",
       "      <td>0.40</td>\n",
       "      <td>3</td>\n",
       "      <td>0.353952</td>\n",
       "      <td>1</td>\n",
       "      <td>0</td>\n",
       "      <td>1</td>\n",
       "      <td>0</td>\n",
       "      <td>0.844089</td>\n",
       "      <td>0.155911</td>\n",
       "      <td>0</td>\n",
       "    </tr>\n",
       "    <tr>\n",
       "      <th>3382</th>\n",
       "      <td>0.866667</td>\n",
       "      <td>0.333333</td>\n",
       "      <td>0.28</td>\n",
       "      <td>1</td>\n",
       "      <td>0.000000</td>\n",
       "      <td>1</td>\n",
       "      <td>1</td>\n",
       "      <td>1</td>\n",
       "      <td>0</td>\n",
       "      <td>0.768953</td>\n",
       "      <td>0.231047</td>\n",
       "      <td>0</td>\n",
       "    </tr>\n",
       "    <tr>\n",
       "      <th>2939</th>\n",
       "      <td>0.600000</td>\n",
       "      <td>1.000000</td>\n",
       "      <td>0.04</td>\n",
       "      <td>3</td>\n",
       "      <td>0.000000</td>\n",
       "      <td>0</td>\n",
       "      <td>0</td>\n",
       "      <td>0</td>\n",
       "      <td>1</td>\n",
       "      <td>0.967420</td>\n",
       "      <td>0.032580</td>\n",
       "      <td>0</td>\n",
       "    </tr>\n",
       "  </tbody>\n",
       "</table>\n",
       "</div>"
      ],
      "text/plain": [
       "      Experience    Family  CCAvg  Education  Mortgage  Securities Account  \\\n",
       "2192    0.088889  1.000000   0.10          1  0.163230                   0   \n",
       "911     0.533333  1.000000   0.26          3  0.000000                   0   \n",
       "3061    0.355556  0.000000   0.40          3  0.353952                   1   \n",
       "3382    0.866667  0.333333   0.28          1  0.000000                   1   \n",
       "2939    0.600000  1.000000   0.04          3  0.000000                   0   \n",
       "\n",
       "      CD Account  Online  CreditCard  deny_loan  accept_loan  y_pred  \n",
       "2192           0       0           1   0.991023     0.008977       0  \n",
       "911            0       0           0   0.674259     0.325741       0  \n",
       "3061           0       1           0   0.844089     0.155911       0  \n",
       "3382           1       1           0   0.768953     0.231047       0  \n",
       "2939           0       0           1   0.967420     0.032580       0  "
      ]
     },
     "execution_count": 59,
     "metadata": {},
     "output_type": "execute_result"
    }
   ],
   "source": [
    "X_test_fe.head()"
   ]
  },
  {
   "cell_type": "code",
   "execution_count": 60,
   "id": "2d32f340-2086-4885-a454-10263d2f01d1",
   "metadata": {
    "tags": []
   },
   "outputs": [
    {
     "name": "stdout",
     "output_type": "stream",
     "text": [
      "The confusion matrix for your predictions is:\n",
      "[[902   8]\n",
      " [ 54  36]] \n",
      "\n",
      "The accuracy of your model is: 0.938\n",
      "The recall of your model is: 0.4\n",
      "The precision of your model is: 0.8181818181818182\n",
      "The F1-score of your model is: 0.537313432835821\n"
     ]
    }
   ],
   "source": [
    "## Now, we simply apply the function on our predictions\n",
    "get_results(y_test, X_test_fe['y_pred'])"
   ]
  },
  {
   "cell_type": "code",
   "execution_count": 61,
   "id": "1a8cff7a-c1ec-4e26-a586-cec123c49ae3",
   "metadata": {
    "tags": []
   },
   "outputs": [
    {
     "data": {
      "image/png": "[encoded data removed]",
      "text/plain": [
       "<Figure size 640x480 with 2 Axes>"
      ]
     },
     "metadata": {},
     "output_type": "display_data"
    }
   ],
   "source": [
    "metrics.ConfusionMatrixDisplay(metrics.confusion_matrix(y_test, X_test_fe['y_pred'])).plot()\n",
    "plt.show()"
   ]
  },
  {
   "cell_type": "markdown",
   "id": "30c9a7e3-f53d-4eea-83dc-0e2df80106c2",
   "metadata": {},
   "source": [
    "# 6.2 Comparing train vs test results"
   ]
  },
  {
   "cell_type": "markdown",
   "id": "fed42348-2d94-4375-bf05-a776d689de7b",
   "metadata": {},
   "source": [
    "Train:\n",
    "- The accuracy of your model is: 0.924\n",
    "- The recall of your model is: 0.3487179487179487\n",
    "- The precision of your model is: 0.7311827956989247\n",
    "- The F1-score of your model is: 0.47222222222222227\n",
    "\n",
    "Test:\n",
    "- The accuracy of your model is: 0.938\n",
    "- The recall of your model is: 0.4\n",
    "- The precision of your model is: 0.8181818181818182\n",
    "- The F1-score of your model is: 0.537313432835821\n",
    "\n",
    "Takeaway:\n",
    "- The model appears to be slightly more accurate on the test data compared to the training set (0.014) which suggests the model is not overfit.\n",
    "- Since the purpose of this data is to predict the likelihood of a liability customers buying personal loans we could prioritise recall in the future to limit false negatives (prevent customers who would want the loan not being offered).\n",
    "- Our model performs quite poorly on recall capturing less then 50%.\n",
    "- To increase recall we could decrease the threshold of our model potentially at the cost of precision/accuracy."
   ]
  },
  {
   "cell_type": "markdown",
   "id": "9979827c-7fbb-4b17-8183-5aa88c189c19",
   "metadata": {},
   "source": [
    "# 7. Finding top 500 most likely to accept a personal loan"
   ]
  },
  {
   "cell_type": "code",
   "execution_count": 65,
   "id": "dc20e9ef-8f55-4c51-8977-fbf036a41773",
   "metadata": {
    "tags": []
   },
   "outputs": [
    {
     "data": {
      "text/html": [
       "<div>\n",
       "<style scoped>\n",
       "    .dataframe tbody tr th:only-of-type {\n",
       "        vertical-align: middle;\n",
       "    }\n",
       "\n",
       "    .dataframe tbody tr th {\n",
       "        vertical-align: top;\n",
       "    }\n",
       "\n",
       "    .dataframe thead th {\n",
       "        text-align: right;\n",
       "    }\n",
       "</style>\n",
       "<table border=\"1\" class=\"dataframe\">\n",
       "  <thead>\n",
       "    <tr style=\"text-align: right;\">\n",
       "      <th></th>\n",
       "      <th>ID</th>\n",
       "      <th>Age</th>\n",
       "      <th>Experience</th>\n",
       "      <th>Income</th>\n",
       "      <th>ZIP Code</th>\n",
       "      <th>Family</th>\n",
       "      <th>CCAvg</th>\n",
       "      <th>Education</th>\n",
       "      <th>Mortgage</th>\n",
       "      <th>Personal Loan</th>\n",
       "      <th>Securities Account</th>\n",
       "      <th>CD Account</th>\n",
       "      <th>Online</th>\n",
       "      <th>CreditCard</th>\n",
       "    </tr>\n",
       "  </thead>\n",
       "  <tbody>\n",
       "    <tr>\n",
       "      <th>0</th>\n",
       "      <td>1</td>\n",
       "      <td>25</td>\n",
       "      <td>1</td>\n",
       "      <td>49</td>\n",
       "      <td>91107</td>\n",
       "      <td>4</td>\n",
       "      <td>1.6</td>\n",
       "      <td>1</td>\n",
       "      <td>0</td>\n",
       "      <td>0</td>\n",
       "      <td>1</td>\n",
       "      <td>0</td>\n",
       "      <td>0</td>\n",
       "      <td>0</td>\n",
       "    </tr>\n",
       "    <tr>\n",
       "      <th>1</th>\n",
       "      <td>2</td>\n",
       "      <td>45</td>\n",
       "      <td>19</td>\n",
       "      <td>34</td>\n",
       "      <td>90089</td>\n",
       "      <td>3</td>\n",
       "      <td>1.5</td>\n",
       "      <td>1</td>\n",
       "      <td>0</td>\n",
       "      <td>0</td>\n",
       "      <td>1</td>\n",
       "      <td>0</td>\n",
       "      <td>0</td>\n",
       "      <td>0</td>\n",
       "    </tr>\n",
       "    <tr>\n",
       "      <th>2</th>\n",
       "      <td>3</td>\n",
       "      <td>39</td>\n",
       "      <td>15</td>\n",
       "      <td>11</td>\n",
       "      <td>94720</td>\n",
       "      <td>1</td>\n",
       "      <td>1.0</td>\n",
       "      <td>1</td>\n",
       "      <td>0</td>\n",
       "      <td>0</td>\n",
       "      <td>0</td>\n",
       "      <td>0</td>\n",
       "      <td>0</td>\n",
       "      <td>0</td>\n",
       "    </tr>\n",
       "    <tr>\n",
       "      <th>3</th>\n",
       "      <td>4</td>\n",
       "      <td>35</td>\n",
       "      <td>9</td>\n",
       "      <td>100</td>\n",
       "      <td>94112</td>\n",
       "      <td>1</td>\n",
       "      <td>2.7</td>\n",
       "      <td>2</td>\n",
       "      <td>0</td>\n",
       "      <td>0</td>\n",
       "      <td>0</td>\n",
       "      <td>0</td>\n",
       "      <td>0</td>\n",
       "      <td>0</td>\n",
       "    </tr>\n",
       "    <tr>\n",
       "      <th>4</th>\n",
       "      <td>5</td>\n",
       "      <td>35</td>\n",
       "      <td>8</td>\n",
       "      <td>45</td>\n",
       "      <td>91330</td>\n",
       "      <td>4</td>\n",
       "      <td>1.0</td>\n",
       "      <td>2</td>\n",
       "      <td>0</td>\n",
       "      <td>0</td>\n",
       "      <td>0</td>\n",
       "      <td>0</td>\n",
       "      <td>0</td>\n",
       "      <td>1</td>\n",
       "    </tr>\n",
       "  </tbody>\n",
       "</table>\n",
       "</div>"
      ],
      "text/plain": [
       "   ID  Age  Experience  Income  ZIP Code  Family  CCAvg  Education  Mortgage  \\\n",
       "0   1   25           1      49     91107       4    1.6          1         0   \n",
       "1   2   45          19      34     90089       3    1.5          1         0   \n",
       "2   3   39          15      11     94720       1    1.0          1         0   \n",
       "3   4   35           9     100     94112       1    2.7          2         0   \n",
       "4   5   35           8      45     91330       4    1.0          2         0   \n",
       "\n",
       "   Personal Loan  Securities Account  CD Account  Online  CreditCard  \n",
       "0              0                   1           0       0           0  \n",
       "1              0                   1           0       0           0  \n",
       "2              0                   0           0       0           0  \n",
       "3              0                   0           0       0           0  \n",
       "4              0                   0           0       0           1  "
      ]
     },
     "execution_count": 65,
     "metadata": {},
     "output_type": "execute_result"
    }
   ],
   "source": [
    "bank_df.head()"
   ]
  },
  {
   "cell_type": "code",
   "execution_count": 66,
   "id": "70c44aa9-593b-4117-8e72-468151d3db57",
   "metadata": {
    "tags": []
   },
   "outputs": [],
   "source": [
    "# Make a new DF and whole data and apply FE\n",
    "top_500 = bank_df.copy()\n",
    "top_500 = top_500.drop(columns='Personal Loan')\n",
    "top_500 = feature_eng(top_500)"
   ]
  },
  {
   "cell_type": "code",
   "execution_count": 67,
   "id": "c06988a6-ad05-49bd-b542-f5506277aab4",
   "metadata": {
    "tags": []
   },
   "outputs": [
    {
     "data": {
      "text/plain": [
       "array([[0.98659748, 0.01340252],\n",
       "       [0.99150172, 0.00849828],\n",
       "       [0.99217403, 0.00782597],\n",
       "       ...,\n",
       "       [0.95150402, 0.04849598],\n",
       "       [0.98173095, 0.01826905],\n",
       "       [0.99736411, 0.00263589]])"
      ]
     },
     "execution_count": 67,
     "metadata": {},
     "output_type": "execute_result"
    }
   ],
   "source": [
    "lr.predict_proba(top_500)"
   ]
  },
  {
   "cell_type": "code",
   "execution_count": 68,
   "id": "a082ad11-4a2e-4bd2-9368-dbccc24ca82c",
   "metadata": {
    "tags": []
   },
   "outputs": [],
   "source": [
    "# store data in 2 columns called 'deny_loan' and 'accept_loan'\n",
    "top_500[['deny_loan', 'accept_loan']] = lr.predict_proba(top_500)"
   ]
  },
  {
   "cell_type": "code",
   "execution_count": 69,
   "id": "804ba17e-ff87-4799-aa38-b52637cd714d",
   "metadata": {
    "tags": []
   },
   "outputs": [
    {
     "data": {
      "text/html": [
       "<div>\n",
       "<style scoped>\n",
       "    .dataframe tbody tr th:only-of-type {\n",
       "        vertical-align: middle;\n",
       "    }\n",
       "\n",
       "    .dataframe tbody tr th {\n",
       "        vertical-align: top;\n",
       "    }\n",
       "\n",
       "    .dataframe thead th {\n",
       "        text-align: right;\n",
       "    }\n",
       "</style>\n",
       "<table border=\"1\" class=\"dataframe\">\n",
       "  <thead>\n",
       "    <tr style=\"text-align: right;\">\n",
       "      <th></th>\n",
       "      <th>Experience</th>\n",
       "      <th>Family</th>\n",
       "      <th>CCAvg</th>\n",
       "      <th>Education</th>\n",
       "      <th>Mortgage</th>\n",
       "      <th>Securities Account</th>\n",
       "      <th>CD Account</th>\n",
       "      <th>Online</th>\n",
       "      <th>CreditCard</th>\n",
       "      <th>deny_loan</th>\n",
       "      <th>accept_loan</th>\n",
       "    </tr>\n",
       "  </thead>\n",
       "  <tbody>\n",
       "    <tr>\n",
       "      <th>0</th>\n",
       "      <td>0.086957</td>\n",
       "      <td>1.000000</td>\n",
       "      <td>0.16</td>\n",
       "      <td>1</td>\n",
       "      <td>0.0</td>\n",
       "      <td>1</td>\n",
       "      <td>0</td>\n",
       "      <td>0</td>\n",
       "      <td>0</td>\n",
       "      <td>0.986597</td>\n",
       "      <td>0.013403</td>\n",
       "    </tr>\n",
       "    <tr>\n",
       "      <th>1</th>\n",
       "      <td>0.478261</td>\n",
       "      <td>0.666667</td>\n",
       "      <td>0.15</td>\n",
       "      <td>1</td>\n",
       "      <td>0.0</td>\n",
       "      <td>1</td>\n",
       "      <td>0</td>\n",
       "      <td>0</td>\n",
       "      <td>0</td>\n",
       "      <td>0.991502</td>\n",
       "      <td>0.008498</td>\n",
       "    </tr>\n",
       "    <tr>\n",
       "      <th>2</th>\n",
       "      <td>0.391304</td>\n",
       "      <td>0.000000</td>\n",
       "      <td>0.10</td>\n",
       "      <td>1</td>\n",
       "      <td>0.0</td>\n",
       "      <td>0</td>\n",
       "      <td>0</td>\n",
       "      <td>0</td>\n",
       "      <td>0</td>\n",
       "      <td>0.992174</td>\n",
       "      <td>0.007826</td>\n",
       "    </tr>\n",
       "    <tr>\n",
       "      <th>3</th>\n",
       "      <td>0.260870</td>\n",
       "      <td>0.000000</td>\n",
       "      <td>0.27</td>\n",
       "      <td>2</td>\n",
       "      <td>0.0</td>\n",
       "      <td>0</td>\n",
       "      <td>0</td>\n",
       "      <td>0</td>\n",
       "      <td>0</td>\n",
       "      <td>0.937286</td>\n",
       "      <td>0.062714</td>\n",
       "    </tr>\n",
       "    <tr>\n",
       "      <th>4</th>\n",
       "      <td>0.239130</td>\n",
       "      <td>1.000000</td>\n",
       "      <td>0.10</td>\n",
       "      <td>2</td>\n",
       "      <td>0.0</td>\n",
       "      <td>0</td>\n",
       "      <td>0</td>\n",
       "      <td>0</td>\n",
       "      <td>1</td>\n",
       "      <td>0.981537</td>\n",
       "      <td>0.018463</td>\n",
       "    </tr>\n",
       "  </tbody>\n",
       "</table>\n",
       "</div>"
      ],
      "text/plain": [
       "   Experience    Family  CCAvg  Education  Mortgage  Securities Account  \\\n",
       "0    0.086957  1.000000   0.16          1       0.0                   1   \n",
       "1    0.478261  0.666667   0.15          1       0.0                   1   \n",
       "2    0.391304  0.000000   0.10          1       0.0                   0   \n",
       "3    0.260870  0.000000   0.27          2       0.0                   0   \n",
       "4    0.239130  1.000000   0.10          2       0.0                   0   \n",
       "\n",
       "   CD Account  Online  CreditCard  deny_loan  accept_loan  \n",
       "0           0       0           0   0.986597     0.013403  \n",
       "1           0       0           0   0.991502     0.008498  \n",
       "2           0       0           0   0.992174     0.007826  \n",
       "3           0       0           0   0.937286     0.062714  \n",
       "4           0       0           1   0.981537     0.018463  "
      ]
     },
     "execution_count": 69,
     "metadata": {},
     "output_type": "execute_result"
    }
   ],
   "source": [
    "top_500.head()"
   ]
  },
  {
   "cell_type": "code",
   "execution_count": 70,
   "id": "2f574049-072f-4a91-af17-6a9c9d0549e6",
   "metadata": {
    "tags": []
   },
   "outputs": [
    {
     "data": {
      "text/html": [
       "<div>\n",
       "<style scoped>\n",
       "    .dataframe tbody tr th:only-of-type {\n",
       "        vertical-align: middle;\n",
       "    }\n",
       "\n",
       "    .dataframe tbody tr th {\n",
       "        vertical-align: top;\n",
       "    }\n",
       "\n",
       "    .dataframe thead th {\n",
       "        text-align: right;\n",
       "    }\n",
       "</style>\n",
       "<table border=\"1\" class=\"dataframe\">\n",
       "  <thead>\n",
       "    <tr style=\"text-align: right;\">\n",
       "      <th></th>\n",
       "      <th>Experience</th>\n",
       "      <th>Family</th>\n",
       "      <th>CCAvg</th>\n",
       "      <th>Education</th>\n",
       "      <th>Mortgage</th>\n",
       "      <th>Securities Account</th>\n",
       "      <th>CD Account</th>\n",
       "      <th>Online</th>\n",
       "      <th>CreditCard</th>\n",
       "      <th>deny_loan</th>\n",
       "      <th>accept_loan</th>\n",
       "    </tr>\n",
       "  </thead>\n",
       "  <tbody>\n",
       "    <tr>\n",
       "      <th>2841</th>\n",
       "      <td>0.304348</td>\n",
       "      <td>1.000000</td>\n",
       "      <td>0.73</td>\n",
       "      <td>2</td>\n",
       "      <td>0.889764</td>\n",
       "      <td>0</td>\n",
       "      <td>1</td>\n",
       "      <td>1</td>\n",
       "      <td>0</td>\n",
       "      <td>0.002708</td>\n",
       "      <td>0.997292</td>\n",
       "    </tr>\n",
       "    <tr>\n",
       "      <th>243</th>\n",
       "      <td>0.913043</td>\n",
       "      <td>0.666667</td>\n",
       "      <td>0.79</td>\n",
       "      <td>3</td>\n",
       "      <td>0.155906</td>\n",
       "      <td>0</td>\n",
       "      <td>1</td>\n",
       "      <td>1</td>\n",
       "      <td>0</td>\n",
       "      <td>0.003343</td>\n",
       "      <td>0.996657</td>\n",
       "    </tr>\n",
       "    <tr>\n",
       "      <th>2812</th>\n",
       "      <td>0.673913</td>\n",
       "      <td>0.666667</td>\n",
       "      <td>0.82</td>\n",
       "      <td>3</td>\n",
       "      <td>0.735433</td>\n",
       "      <td>0</td>\n",
       "      <td>1</td>\n",
       "      <td>1</td>\n",
       "      <td>1</td>\n",
       "      <td>0.003518</td>\n",
       "      <td>0.996482</td>\n",
       "    </tr>\n",
       "    <tr>\n",
       "      <th>4008</th>\n",
       "      <td>0.739130</td>\n",
       "      <td>0.666667</td>\n",
       "      <td>0.75</td>\n",
       "      <td>3</td>\n",
       "      <td>0.552756</td>\n",
       "      <td>0</td>\n",
       "      <td>1</td>\n",
       "      <td>1</td>\n",
       "      <td>1</td>\n",
       "      <td>0.007511</td>\n",
       "      <td>0.992489</td>\n",
       "    </tr>\n",
       "    <tr>\n",
       "      <th>570</th>\n",
       "      <td>0.608696</td>\n",
       "      <td>0.666667</td>\n",
       "      <td>0.65</td>\n",
       "      <td>2</td>\n",
       "      <td>0.763780</td>\n",
       "      <td>1</td>\n",
       "      <td>1</td>\n",
       "      <td>0</td>\n",
       "      <td>0</td>\n",
       "      <td>0.012990</td>\n",
       "      <td>0.987010</td>\n",
       "    </tr>\n",
       "  </tbody>\n",
       "</table>\n",
       "</div>"
      ],
      "text/plain": [
       "      Experience    Family  CCAvg  Education  Mortgage  Securities Account  \\\n",
       "2841    0.304348  1.000000   0.73          2  0.889764                   0   \n",
       "243     0.913043  0.666667   0.79          3  0.155906                   0   \n",
       "2812    0.673913  0.666667   0.82          3  0.735433                   0   \n",
       "4008    0.739130  0.666667   0.75          3  0.552756                   0   \n",
       "570     0.608696  0.666667   0.65          2  0.763780                   1   \n",
       "\n",
       "      CD Account  Online  CreditCard  deny_loan  accept_loan  \n",
       "2841           1       1           0   0.002708     0.997292  \n",
       "243            1       1           0   0.003343     0.996657  \n",
       "2812           1       1           1   0.003518     0.996482  \n",
       "4008           1       1           1   0.007511     0.992489  \n",
       "570            1       0           0   0.012990     0.987010  "
      ]
     },
     "execution_count": 70,
     "metadata": {},
     "output_type": "execute_result"
    }
   ],
   "source": [
    "top_500 = top_500.loc[top_500['accept_loan'].nlargest(500).index]\n",
    "top_500.head()"
   ]
  },
  {
   "cell_type": "code",
   "execution_count": 71,
   "id": "80667caf-d99b-415c-80b5-60ad2b291e0a",
   "metadata": {
    "tags": []
   },
   "outputs": [
    {
     "data": {
      "text/plain": [
       "500"
      ]
     },
     "execution_count": 71,
     "metadata": {},
     "output_type": "execute_result"
    }
   ],
   "source": [
    "top_500['ID'] = top_500.index\n",
    "top_500_list = top_500['ID'].tolist()\n",
    "len(top_500_list)"
   ]
  },
  {
   "cell_type": "code",
   "execution_count": 72,
   "id": "db6db690-9137-4bed-8173-c16eec5be531",
   "metadata": {},
   "outputs": [],
   "source": [
    "# Here is the list of ID's for the top 500 most likely to accept a personal loan\n",
    "#top_500_list"
   ]
  },
  {
   "cell_type": "markdown",
   "id": "ec70ee51-57d7-4c92-b756-8876001530e4",
   "metadata": {
    "tags": []
   },
   "source": [
    "# 8. Calculating the odds of a new customer accepting a personal loan"
   ]
  },
  {
   "cell_type": "markdown",
   "id": "9f9d2f24-bf7e-4f18-9e46-1f700187a22c",
   "metadata": {},
   "source": [
    "- **ID**: Customer ID\n",
    "- **Age**: Customer's age in completed years\n",
    "- **Experience**: Number of years of professional experience\n",
    "- **Income**: Annual income of the customer ($000)\n",
    "\n",
    "- **ZIP Code**: Home address ZIP code\n",
    "- **Family**: Family size of the customer\n",
    "- **CCAvg**: Average spending on credit cards per month ($000)\n",
    "\n",
    "- **Education**: Education Level\n",
    "  - 1: Undergrad\n",
    "  - 2: Graduate\n",
    "  - 3: Advanced/Professional\n",
    "- **Mortgage**: Value of house mortgage if any ($000)\n",
    "- **Personal Loan**: Did this customer accept the personal loan offered in the last campaign?\n",
    "- **Securities Account**: Does the customer have a securities account with the bank?\n",
    "- **CD Account**: Does the customer have a certificate of deposit (CD) account with the bank?\n",
    "- **Online**: Does the customer use internet banking facilities?\n",
    "- **CreditCard**: Does the customer use a credit card issued by UniversalBank?"
   ]
  },
  {
   "cell_type": "markdown",
   "id": "7965e960-34ef-4aac-8d94-a91569a5cd68",
   "metadata": {},
   "source": [
    "# Loan probability function"
   ]
  },
  {
   "cell_type": "code",
   "execution_count": 76,
   "id": "3685fb20-5425-4ac0-8966-643a9dd0d82c",
   "metadata": {
    "tags": []
   },
   "outputs": [],
   "source": [
    "# Function to give recommedations / probability\n",
    "def loan_prob():   \n",
    "    \n",
    "        # Ask questions and collect answers\n",
    "        questions = [\"Number of years of professional experience:\", \"Number of immediate family:\",\n",
    "                    \"Average spending on credit cards per month ($000):\", \"Education level(1-3):\", \"Value of house mortgage if any ($000)\", \n",
    "                     \"Does the customer have a securities account with the bank?(1-Yes, 0-No):\", \n",
    "                     \"Does the customer have a certificate of deposit (CD) account with the bank?(1-Yes, 0-No):\",\n",
    "                     \" Does the customer use internet banking facilities?(1-Yes, 0-No):\",\n",
    "                    \"Does the customer use a credit card issued by UniversalBank?(1-Yes, 0-No):\"]\n",
    "        # Create a list with the headers of the columns\n",
    "        columns = [\"Experience\", \"Family\", \"CCAvg\", \"Education\", \"Mortgage\", \"Securities Account\", \"CD Account\", \"Online\", \"CreditCard\"]\n",
    "        answers = {}\n",
    "        \n",
    "        # Zip our answers with our column headers\n",
    "        for question, column in zip(questions, columns):\n",
    "            while True:\n",
    "                try:\n",
    "                    answer = input(question + \" \")\n",
    "\n",
    "                    # Check if the column requires a 0 or 1 answer\n",
    "                    if column in [\"Securities Account\", \"CD Account\", \"Online\", \"CreditCard\"]:\n",
    "                        if answer not in [\"0\", \"1\"]:\n",
    "                            raise ValueError(\"Please enter 0 or 1.\")\n",
    "                    elif column == \"CCAvg\":\n",
    "                        # Check if the input is a valid float\n",
    "                        if not answer.replace('.', '', 1).isdigit():\n",
    "                            raise ValueError(\"Please enter a valid number.\")\n",
    "                        answer = float(answer)  # Convert to float\n",
    "                    elif column == \"Education\":\n",
    "                        # Check if the input is a valid integer and between 1 and 3\n",
    "                        if not answer.isdigit() or not (1 <= int(answer) <= 3):\n",
    "                            raise ValueError(\"Please enter a valid number between 1 and 3.\")\n",
    "                        answer = int(answer)  # Convert to integer\n",
    "                    else:\n",
    "                        # Check if the input is a valid integer\n",
    "                        if not answer.isdigit():\n",
    "                            raise ValueError(\"Please enter a valid number.\")\n",
    "                        answer = int(answer)  # Convert to integer\n",
    "\n",
    "                    answers[column] = answer\n",
    "                    break  # Exit the loop if the input is valid\n",
    "                except ValueError as e:\n",
    "                    print(e)\n",
    "\n",
    "\n",
    "        # Convert the dictionary into a pandas DataFrame\n",
    "        user_df = pd.DataFrame([answers])\n",
    "        user_df['CCAvg'] = user_df['CCAvg'].astype(float)\n",
    "\n",
    "        # Add the new data to the entire df\n",
    "        complete_df = pd.concat([bank_df, user_df], ignore_index=True)\n",
    "        complete_df = complete_df.fillna(0)\n",
    "        complete_df['CCAvg'] = complete_df['CCAvg'].astype(float)\n",
    "\n",
    "        # Drop columns - Age IDIncome Personal Loan ZIP Code\n",
    "        columns_to_drop = ['Age', 'ID', 'Income', 'Personal Loan', 'ZIP Code']\n",
    "        complete_df = complete_df.drop(columns=columns_to_drop)\n",
    "\n",
    "\n",
    "        # Apply scaler\n",
    "        columns_to_scale = ['Experience', 'Family', 'CCAvg', 'Mortgage'] # Columns scaled\n",
    "        minmax = MinMaxScaler() # Initialize the MinMaxScaler\n",
    "        complete_df[columns_to_scale] = minmax.fit_transform(complete_df[columns_to_scale]) # Apply scaler\n",
    "\n",
    "        # Fit user data into model\n",
    "        lr.predict_proba(complete_df)\n",
    "\n",
    "        # store data in 2 columns called 'deny_loan' and 'accept_loan'\n",
    "        complete_df[['deny_loan', 'accept_loan']] = lr.predict_proba(complete_df)\n",
    "\n",
    "        # Remove user inputs\n",
    "        clear_output(wait=True)\n",
    "\n",
    "        # Probability of accepting the personal loan\n",
    "        column_name = 'accept_loan'\n",
    "        loan_prob = complete_df.iloc[-1][column_name] * 100\n",
    "        loan_statement = print(f\"Chance of customer accepting personal loan: {loan_prob}%\")\n",
    "        \n",
    "        # Recommender function:\n",
    "        def recommendation():\n",
    "            time.sleep(2)\n",
    "            if loan_prob>40:\n",
    "                print(\"Recommend: Offering customer a personal loan.\")\n",
    "            else:\n",
    "                print(\"Customer unlikely to accept personal loan.\")\n",
    "\n",
    "\n",
    "        return loan_statement, recommendation(), proceed()\n",
    "\n",
    "    \n",
    "# Continue function\n",
    "def proceed():\n",
    "    next_customer = input(\"Would you like to check another customer? (y/n): \")\n",
    "    if next_customer.lower() == \"y\":\n",
    "        clear_output(wait=True)\n",
    "        loan_prob()\n",
    "    elif next_customer.lower() == \"n\":\n",
    "        print(\"Have an awesome day!\")\n",
    "    else:\n",
    "        clear_output(wait=True)\n",
    "        print(\"Wasn't quite sure what that meant.\")\n",
    "        proceed()"
   ]
  },
  {
   "cell_type": "markdown",
   "id": "afe7475c-f342-4b2e-a37f-1ae2cb4ba8b0",
   "metadata": {},
   "source": [
    "# Calling function for new customers"
   ]
  },
  {
   "cell_type": "code",
   "execution_count": 78,
   "id": "71bfe91b-ec41-4f48-99b7-5e45fe0922b4",
   "metadata": {
    "tags": []
   },
   "outputs": [
    {
     "name": "stdout",
     "output_type": "stream",
     "text": [
      "Chance of customer accepting personal loan: 48.10043730171999%\n",
      "Recommend: Offering customer a personal loan.\n"
     ]
    },
    {
     "name": "stdin",
     "output_type": "stream",
     "text": [
      "Would you like to check another customer? (y/n):  N\n"
     ]
    },
    {
     "name": "stdout",
     "output_type": "stream",
     "text": [
      "Have an awesome day!\n"
     ]
    },
    {
     "data": {
      "text/plain": [
       "(None, None, None)"
      ]
     },
     "execution_count": 78,
     "metadata": {},
     "output_type": "execute_result"
    }
   ],
   "source": [
    "loan_prob()"
   ]
  },
  {
   "cell_type": "code",
   "execution_count": 79,
   "id": "55417557-6e14-4de5-85e2-dd99f16d1d84",
   "metadata": {
    "tags": []
   },
   "outputs": [
    {
     "data": {
      "text/html": [
       "<div>\n",
       "<style scoped>\n",
       "    .dataframe tbody tr th:only-of-type {\n",
       "        vertical-align: middle;\n",
       "    }\n",
       "\n",
       "    .dataframe tbody tr th {\n",
       "        vertical-align: top;\n",
       "    }\n",
       "\n",
       "    .dataframe thead th {\n",
       "        text-align: right;\n",
       "    }\n",
       "</style>\n",
       "<table border=\"1\" class=\"dataframe\">\n",
       "  <thead>\n",
       "    <tr style=\"text-align: right;\">\n",
       "      <th></th>\n",
       "      <th>Experience</th>\n",
       "      <th>Family</th>\n",
       "      <th>CCAvg</th>\n",
       "      <th>Education</th>\n",
       "      <th>Mortgage</th>\n",
       "      <th>Securities Account</th>\n",
       "      <th>CD Account</th>\n",
       "      <th>Online</th>\n",
       "      <th>CreditCard</th>\n",
       "      <th>deny_loan</th>\n",
       "      <th>accept_loan</th>\n",
       "      <th>y_pred</th>\n",
       "    </tr>\n",
       "  </thead>\n",
       "  <tbody>\n",
       "    <tr>\n",
       "      <th>8</th>\n",
       "      <td>0.288889</td>\n",
       "      <td>0.666667</td>\n",
       "      <td>0.06</td>\n",
       "      <td>2</td>\n",
       "      <td>0.178694</td>\n",
       "      <td>0</td>\n",
       "      <td>0</td>\n",
       "      <td>1</td>\n",
       "      <td>0</td>\n",
       "      <td>0.972267</td>\n",
       "      <td>0.027733</td>\n",
       "      <td>0</td>\n",
       "    </tr>\n",
       "    <tr>\n",
       "      <th>15</th>\n",
       "      <td>0.733333</td>\n",
       "      <td>0.000000</td>\n",
       "      <td>0.15</td>\n",
       "      <td>3</td>\n",
       "      <td>0.000000</td>\n",
       "      <td>0</td>\n",
       "      <td>0</td>\n",
       "      <td>1</td>\n",
       "      <td>1</td>\n",
       "      <td>0.985518</td>\n",
       "      <td>0.014482</td>\n",
       "      <td>0</td>\n",
       "    </tr>\n",
       "    <tr>\n",
       "      <th>17</th>\n",
       "      <td>0.466667</td>\n",
       "      <td>1.000000</td>\n",
       "      <td>0.24</td>\n",
       "      <td>1</td>\n",
       "      <td>0.000000</td>\n",
       "      <td>0</td>\n",
       "      <td>0</td>\n",
       "      <td>0</td>\n",
       "      <td>0</td>\n",
       "      <td>0.946742</td>\n",
       "      <td>0.053258</td>\n",
       "      <td>0</td>\n",
       "    </tr>\n",
       "    <tr>\n",
       "      <th>18</th>\n",
       "      <td>0.533333</td>\n",
       "      <td>0.333333</td>\n",
       "      <td>0.81</td>\n",
       "      <td>3</td>\n",
       "      <td>0.000000</td>\n",
       "      <td>0</td>\n",
       "      <td>0</td>\n",
       "      <td>0</td>\n",
       "      <td>0</td>\n",
       "      <td>0.103448</td>\n",
       "      <td>0.896552</td>\n",
       "      <td>1</td>\n",
       "    </tr>\n",
       "    <tr>\n",
       "      <th>19</th>\n",
       "      <td>0.688889</td>\n",
       "      <td>0.000000</td>\n",
       "      <td>0.05</td>\n",
       "      <td>2</td>\n",
       "      <td>0.000000</td>\n",
       "      <td>1</td>\n",
       "      <td>0</td>\n",
       "      <td>0</td>\n",
       "      <td>1</td>\n",
       "      <td>0.998250</td>\n",
       "      <td>0.001750</td>\n",
       "      <td>0</td>\n",
       "    </tr>\n",
       "  </tbody>\n",
       "</table>\n",
       "</div>"
      ],
      "text/plain": [
       "    Experience    Family  CCAvg  Education  Mortgage  Securities Account  \\\n",
       "8     0.288889  0.666667   0.06          2  0.178694                   0   \n",
       "15    0.733333  0.000000   0.15          3  0.000000                   0   \n",
       "17    0.466667  1.000000   0.24          1  0.000000                   0   \n",
       "18    0.533333  0.333333   0.81          3  0.000000                   0   \n",
       "19    0.688889  0.000000   0.05          2  0.000000                   1   \n",
       "\n",
       "    CD Account  Online  CreditCard  deny_loan  accept_loan  y_pred  \n",
       "8            0       1           0   0.972267     0.027733       0  \n",
       "15           0       1           1   0.985518     0.014482       0  \n",
       "17           0       0           0   0.946742     0.053258       0  \n",
       "18           0       0           0   0.103448     0.896552       1  \n",
       "19           0       0           1   0.998250     0.001750       0  "
      ]
     },
     "execution_count": 79,
     "metadata": {},
     "output_type": "execute_result"
    }
   ],
   "source": [
    "# We can check our model against random customers (In the testing set)\n",
    "X_test_fe = X_test_fe.sort_index()\n",
    "X_test_fe.head()"
   ]
  },
  {
   "cell_type": "code",
   "execution_count": 80,
   "id": "cd1117df-830a-423d-b51c-96d70019ce16",
   "metadata": {
    "tags": []
   },
   "outputs": [
    {
     "data": {
      "text/html": [
       "<div>\n",
       "<style scoped>\n",
       "    .dataframe tbody tr th:only-of-type {\n",
       "        vertical-align: middle;\n",
       "    }\n",
       "\n",
       "    .dataframe tbody tr th {\n",
       "        vertical-align: top;\n",
       "    }\n",
       "\n",
       "    .dataframe thead th {\n",
       "        text-align: right;\n",
       "    }\n",
       "</style>\n",
       "<table border=\"1\" class=\"dataframe\">\n",
       "  <thead>\n",
       "    <tr style=\"text-align: right;\">\n",
       "      <th></th>\n",
       "      <th>ID</th>\n",
       "      <th>Age</th>\n",
       "      <th>Experience</th>\n",
       "      <th>Income</th>\n",
       "      <th>ZIP Code</th>\n",
       "      <th>Family</th>\n",
       "      <th>CCAvg</th>\n",
       "      <th>Education</th>\n",
       "      <th>Mortgage</th>\n",
       "      <th>Personal Loan</th>\n",
       "      <th>Securities Account</th>\n",
       "      <th>CD Account</th>\n",
       "      <th>Online</th>\n",
       "      <th>CreditCard</th>\n",
       "    </tr>\n",
       "  </thead>\n",
       "  <tbody>\n",
       "    <tr>\n",
       "      <th>15</th>\n",
       "      <td>16</td>\n",
       "      <td>60</td>\n",
       "      <td>30</td>\n",
       "      <td>22</td>\n",
       "      <td>95054</td>\n",
       "      <td>1</td>\n",
       "      <td>1.5</td>\n",
       "      <td>3</td>\n",
       "      <td>0</td>\n",
       "      <td>0</td>\n",
       "      <td>0</td>\n",
       "      <td>0</td>\n",
       "      <td>1</td>\n",
       "      <td>1</td>\n",
       "    </tr>\n",
       "    <tr>\n",
       "      <th>16</th>\n",
       "      <td>17</td>\n",
       "      <td>38</td>\n",
       "      <td>14</td>\n",
       "      <td>130</td>\n",
       "      <td>95010</td>\n",
       "      <td>4</td>\n",
       "      <td>4.7</td>\n",
       "      <td>3</td>\n",
       "      <td>134</td>\n",
       "      <td>1</td>\n",
       "      <td>0</td>\n",
       "      <td>0</td>\n",
       "      <td>0</td>\n",
       "      <td>0</td>\n",
       "    </tr>\n",
       "    <tr>\n",
       "      <th>17</th>\n",
       "      <td>18</td>\n",
       "      <td>42</td>\n",
       "      <td>18</td>\n",
       "      <td>81</td>\n",
       "      <td>94305</td>\n",
       "      <td>4</td>\n",
       "      <td>2.4</td>\n",
       "      <td>1</td>\n",
       "      <td>0</td>\n",
       "      <td>0</td>\n",
       "      <td>0</td>\n",
       "      <td>0</td>\n",
       "      <td>0</td>\n",
       "      <td>0</td>\n",
       "    </tr>\n",
       "    <tr>\n",
       "      <th>18</th>\n",
       "      <td>19</td>\n",
       "      <td>46</td>\n",
       "      <td>21</td>\n",
       "      <td>193</td>\n",
       "      <td>91604</td>\n",
       "      <td>2</td>\n",
       "      <td>8.1</td>\n",
       "      <td>3</td>\n",
       "      <td>0</td>\n",
       "      <td>1</td>\n",
       "      <td>0</td>\n",
       "      <td>0</td>\n",
       "      <td>0</td>\n",
       "      <td>0</td>\n",
       "    </tr>\n",
       "    <tr>\n",
       "      <th>19</th>\n",
       "      <td>20</td>\n",
       "      <td>55</td>\n",
       "      <td>28</td>\n",
       "      <td>21</td>\n",
       "      <td>94720</td>\n",
       "      <td>1</td>\n",
       "      <td>0.5</td>\n",
       "      <td>2</td>\n",
       "      <td>0</td>\n",
       "      <td>0</td>\n",
       "      <td>1</td>\n",
       "      <td>0</td>\n",
       "      <td>0</td>\n",
       "      <td>1</td>\n",
       "    </tr>\n",
       "  </tbody>\n",
       "</table>\n",
       "</div>"
      ],
      "text/plain": [
       "    ID  Age  Experience  Income  ZIP Code  Family  CCAvg  Education  Mortgage  \\\n",
       "15  16   60          30      22     95054       1    1.5          3         0   \n",
       "16  17   38          14     130     95010       4    4.7          3       134   \n",
       "17  18   42          18      81     94305       4    2.4          1         0   \n",
       "18  19   46          21     193     91604       2    8.1          3         0   \n",
       "19  20   55          28      21     94720       1    0.5          2         0   \n",
       "\n",
       "    Personal Loan  Securities Account  CD Account  Online  CreditCard  \n",
       "15              0                   0           0       1           1  \n",
       "16              1                   0           0       0           0  \n",
       "17              0                   0           0       0           0  \n",
       "18              1                   0           0       0           0  \n",
       "19              0                   1           0       0           1  "
      ]
     },
     "execution_count": 80,
     "metadata": {},
     "output_type": "execute_result"
    }
   ],
   "source": [
    "# Use data to input into our formula -- loan_prob()\n",
    "df_slice_direct = bank_df[15:20]\n",
    "df_slice_direct"
   ]
  },
  {
   "cell_type": "code",
   "execution_count": null,
   "id": "8f478524-ccc6-465f-9a48-50c077c72d53",
   "metadata": {},
   "outputs": [],
   "source": []
  }
 ],
 "metadata": {
  "kernelspec": {
   "display_name": "Python 3 (ipykernel)",
   "language": "python",
   "name": "python3"
  },
  "language_info": {
   "codemirror_mode": {
    "name": "ipython",
    "version": 3
   },
   "file_extension": ".py",
   "mimetype": "text/x-python",
   "name": "python",
   "nbconvert_exporter": "python",
   "pygments_lexer": "ipython3",
   "version": "3.11.7"
  }
 },
 "nbformat": 4,
 "nbformat_minor": 5
}
